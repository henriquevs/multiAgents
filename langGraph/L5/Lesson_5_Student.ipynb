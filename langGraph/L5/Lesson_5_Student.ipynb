{
 "cells": [
  {
   "cell_type": "markdown",
   "id": "8ad976db-fb87-4a92-b0d2-06defc098339",
   "metadata": {},
   "source": [
    "# Lesson 5: Human in the Loop"
   ]
  },
  {
   "cell_type": "markdown",
   "id": "91d756c3-9c97-4155-9b56-8ecfed5f1876",
   "metadata": {},
   "source": [
    "Note: This notebook is running in a later version of langgraph that it was filmed with. The later version has a couple of key additions:\n",
    "- Additional state information is stored to memory and displayed when using `get_state()` or `get_state_history()`.\n",
    "- State is additionally stored every state transition while previously it was stored at an interrupt or at the end.\n",
    "These change the command output slightly, but are a useful addtion to the information available."
   ]
  },
  {
   "cell_type": "code",
   "execution_count": 48,
   "id": "f5762271-8736-4e94-9444-8c92bd0e8074",
   "metadata": {
    "height": 64
   },
   "outputs": [],
   "source": [
    "from dotenv import load_dotenv\n",
    "\n",
    "_ = load_dotenv()\n"
   ]
  },
  {
   "cell_type": "code",
   "execution_count": 49,
   "id": "d0168aee-bce9-4d60-b827-f86a88187e31",
   "metadata": {
    "height": 181
   },
   "outputs": [],
   "source": [
    "from langgraph.graph import StateGraph, END\n",
    "from typing import TypedDict, Annotated\n",
    "import operator\n",
    "from langchain_core.messages import AnyMessage, SystemMessage, HumanMessage, ToolMessage\n",
    "from langchain_openai import ChatOpenAI\n",
    "from langchain_community.tools.tavily_search import TavilySearchResults\n",
    "from langgraph.checkpoint.sqlite import SqliteSaver\n",
    "\n",
    "memory = SqliteSaver.from_conn_string(\":memory:\")\n"
   ]
  },
  {
   "cell_type": "code",
   "execution_count": 50,
   "id": "2589c5b6-6cc2-4594-9a17-dccdcf676054",
   "metadata": {
    "height": 572
   },
   "outputs": [],
   "source": [
    "from uuid import uuid4\n",
    "from langchain_core.messages import AnyMessage, SystemMessage, HumanMessage, AIMessage\n",
    "\n",
    "\"\"\"\n",
    "In previous examples we've annotated the `messages` state key\n",
    "with the default `operator.add` or `+` reducer, which always\n",
    "appends new messages to the end of the existing messages array.\n",
    "\n",
    "Now, to support replacing existing messages, we annotate the\n",
    "`messages` key with a customer reducer function, which replaces\n",
    "messages with the same `id`, and appends them otherwise.\n",
    "\"\"\"\n",
    "def reduce_messages(left: list[AnyMessage], right: list[AnyMessage]) -> list[AnyMessage]:\n",
    "    # assign ids to messages that don't have them\n",
    "    for message in right:\n",
    "        if not message.id:\n",
    "            message.id = str(uuid4())\n",
    "    # merge the new messages with the existing messages\n",
    "    merged = left.copy()\n",
    "    for message in right:\n",
    "        for i, existing in enumerate(merged):\n",
    "            # replace any existing messages with the same id\n",
    "            if existing.id == message.id:\n",
    "                merged[i] = message\n",
    "                break\n",
    "        else:\n",
    "            # append any new messages to the end\n",
    "            merged.append(message)\n",
    "    return merged\n",
    "\n",
    "class AgentState(TypedDict):\n",
    "    messages: Annotated[list[AnyMessage], reduce_messages]\n"
   ]
  },
  {
   "cell_type": "code",
   "execution_count": 51,
   "id": "a2ba84ec-c172-4de7-ac55-e3158a531b23",
   "metadata": {
    "height": 30
   },
   "outputs": [],
   "source": [
    "tool = TavilySearchResults(max_results=2)\n"
   ]
  },
  {
   "cell_type": "markdown",
   "id": "d58320dc-c542-4a3c-bcf1-088909f9b075",
   "metadata": {},
   "source": [
    "## Manual human approval"
   ]
  },
  {
   "cell_type": "code",
   "execution_count": 52,
   "id": "46a0e94e-d015-4106-b439-dbcd2fcb8bb0",
   "metadata": {
    "height": 657
   },
   "outputs": [],
   "source": [
    "class Agent:\n",
    "    def __init__(self, model, tools, system=\"\", checkpointer=None):\n",
    "        self.system = system\n",
    "        graph = StateGraph(AgentState)\n",
    "        graph.add_node(\"llm\", self.call_openai)\n",
    "        graph.add_node(\"action\", self.take_action)\n",
    "        graph.add_conditional_edges(\"llm\", self.exists_action, {True: \"action\", False: END})\n",
    "        graph.add_edge(\"action\", \"llm\")\n",
    "        graph.set_entry_point(\"llm\")\n",
    "        self.graph = graph.compile(\n",
    "            checkpointer=checkpointer,\n",
    "            interrupt_before=[\"action\"]\n",
    "        )\n",
    "        self.tools = {t.name: t for t in tools}\n",
    "        self.model = model.bind_tools(tools)\n",
    "\n",
    "    def call_openai(self, state: AgentState):\n",
    "        messages = state['messages']\n",
    "        if self.system:\n",
    "            messages = [SystemMessage(content=self.system)] + messages\n",
    "        message = self.model.invoke(messages)\n",
    "        return {'messages': [message]}\n",
    "\n",
    "    def exists_action(self, state: AgentState):\n",
    "        print(state)\n",
    "        result = state['messages'][-1]\n",
    "        return len(result.tool_calls) > 0\n",
    "\n",
    "    def take_action(self, state: AgentState):\n",
    "        tool_calls = state['messages'][-1].tool_calls\n",
    "        results = []\n",
    "        for t in tool_calls:\n",
    "            print(f\"Calling: {t}\")\n",
    "            result = self.tools[t['name']].invoke(t['args'])\n",
    "            results.append(ToolMessage(tool_call_id=t['id'], name=t['name'], content=str(result)))\n",
    "        print(\"Back to the model!\")\n",
    "        return {'messages': results}\n"
   ]
  },
  {
   "cell_type": "code",
   "execution_count": 53,
   "id": "10084a02-2928-4945-9f7c-ad3f5b33caf7",
   "metadata": {
    "height": 147
   },
   "outputs": [],
   "source": [
    "prompt = \"\"\"You are a smart research assistant. Use the search engine to look up information. \\\n",
    "You are allowed to make multiple calls (either together or in sequence). \\\n",
    "Only look up information when you are sure of what you want. \\\n",
    "If you need to look up some information before asking a follow up question, you are allowed to do that!\n",
    "\"\"\"\n",
    "model = ChatOpenAI(model=\"gpt-3.5-turbo\")\n",
    "abot = Agent(model, [tool], system=prompt, checkpointer=memory)\n"
   ]
  },
  {
   "cell_type": "code",
   "execution_count": 54,
   "id": "714d1205-f8fc-4912-b148-2a45da99219c",
   "metadata": {
    "height": 98
   },
   "outputs": [
    {
     "name": "stdout",
     "output_type": "stream",
     "text": [
      "{'messages': [HumanMessage(content='Whats the weather in SF?', id='09320f12-9ce2-4ad0-ace1-377f04284b2a'), AIMessage(content='', additional_kwargs={'tool_calls': [{'id': 'call_wPayYkTwaypt7MAM7FMaX6Rt', 'function': {'arguments': '{\"query\":\"weather in San Francisco\"}', 'name': 'tavily_search_results_json'}, 'type': 'function'}]}, response_metadata={'token_usage': {'completion_tokens': 22, 'prompt_tokens': 152, 'total_tokens': 174, 'prompt_tokens_details': {'cached_tokens': 0, 'audio_tokens': 0}, 'completion_tokens_details': {'reasoning_tokens': 0, 'audio_tokens': 0, 'accepted_prediction_tokens': 0, 'rejected_prediction_tokens': 0}}, 'model_name': 'gpt-3.5-turbo', 'system_fingerprint': None, 'finish_reason': 'tool_calls', 'logprobs': None}, id='run-40df4b82-4795-45f3-8b77-8d1c1518cfa6-0', tool_calls=[{'name': 'tavily_search_results_json', 'args': {'query': 'weather in San Francisco'}, 'id': 'call_wPayYkTwaypt7MAM7FMaX6Rt'}])]}\n",
      "{'messages': [AIMessage(content='', additional_kwargs={'tool_calls': [{'id': 'call_wPayYkTwaypt7MAM7FMaX6Rt', 'function': {'arguments': '{\"query\":\"weather in San Francisco\"}', 'name': 'tavily_search_results_json'}, 'type': 'function'}]}, response_metadata={'token_usage': {'completion_tokens': 22, 'prompt_tokens': 152, 'total_tokens': 174, 'prompt_tokens_details': {'cached_tokens': 0, 'audio_tokens': 0}, 'completion_tokens_details': {'reasoning_tokens': 0, 'audio_tokens': 0, 'accepted_prediction_tokens': 0, 'rejected_prediction_tokens': 0}}, 'model_name': 'gpt-3.5-turbo', 'system_fingerprint': None, 'finish_reason': 'tool_calls', 'logprobs': None}, id='run-40df4b82-4795-45f3-8b77-8d1c1518cfa6-0', tool_calls=[{'name': 'tavily_search_results_json', 'args': {'query': 'weather in San Francisco'}, 'id': 'call_wPayYkTwaypt7MAM7FMaX6Rt'}])]}\n"
     ]
    }
   ],
   "source": [
    "messages = [HumanMessage(content=\"Whats the weather in SF?\")]\n",
    "thread = {\"configurable\": {\"thread_id\": \"1\"}}\n",
    "for event in abot.graph.stream({\"messages\": messages}, thread):\n",
    "    for v in event.values():\n",
    "        print(v)\n"
   ]
  },
  {
   "cell_type": "code",
   "execution_count": 55,
   "id": "83588e70-254f-4f83-a510-c8ae81e729b0",
   "metadata": {
    "height": 30
   },
   "outputs": [
    {
     "data": {
      "text/plain": [
       "StateSnapshot(values={'messages': [HumanMessage(content='Whats the weather in SF?', id='09320f12-9ce2-4ad0-ace1-377f04284b2a'), AIMessage(content='', additional_kwargs={'tool_calls': [{'function': {'arguments': '{\"query\":\"weather in San Francisco\"}', 'name': 'tavily_search_results_json'}, 'id': 'call_wPayYkTwaypt7MAM7FMaX6Rt', 'type': 'function'}]}, response_metadata={'finish_reason': 'tool_calls', 'logprobs': None, 'model_name': 'gpt-3.5-turbo', 'system_fingerprint': None, 'token_usage': {'completion_tokens': 22, 'completion_tokens_details': {'accepted_prediction_tokens': 0, 'audio_tokens': 0, 'reasoning_tokens': 0, 'rejected_prediction_tokens': 0}, 'prompt_tokens': 152, 'prompt_tokens_details': {'audio_tokens': 0, 'cached_tokens': 0}, 'total_tokens': 174}}, id='run-40df4b82-4795-45f3-8b77-8d1c1518cfa6-0', tool_calls=[{'name': 'tavily_search_results_json', 'args': {'query': 'weather in San Francisco'}, 'id': 'call_wPayYkTwaypt7MAM7FMaX6Rt'}])]}, next=('action',), config={'configurable': {'thread_id': '1', 'thread_ts': '1efc96d1-3b4e-605c-8001-004461b60e8b'}}, metadata={'source': 'loop', 'step': 1, 'writes': {'llm': {'messages': [AIMessage(content='', additional_kwargs={'tool_calls': [{'function': {'arguments': '{\"query\":\"weather in San Francisco\"}', 'name': 'tavily_search_results_json'}, 'id': 'call_wPayYkTwaypt7MAM7FMaX6Rt', 'type': 'function'}]}, response_metadata={'finish_reason': 'tool_calls', 'logprobs': None, 'model_name': 'gpt-3.5-turbo', 'system_fingerprint': None, 'token_usage': {'completion_tokens': 22, 'completion_tokens_details': {'accepted_prediction_tokens': 0, 'audio_tokens': 0, 'reasoning_tokens': 0, 'rejected_prediction_tokens': 0}, 'prompt_tokens': 152, 'prompt_tokens_details': {'audio_tokens': 0, 'cached_tokens': 0}, 'total_tokens': 174}}, id='run-40df4b82-4795-45f3-8b77-8d1c1518cfa6-0', tool_calls=[{'name': 'tavily_search_results_json', 'args': {'query': 'weather in San Francisco'}, 'id': 'call_wPayYkTwaypt7MAM7FMaX6Rt'}])]}}}, created_at='2025-01-03T00:52:59.101377+00:00', parent_config={'configurable': {'thread_id': '1', 'thread_ts': '1efc96d1-35bb-6428-8000-16a071082471'}})"
      ]
     },
     "execution_count": 55,
     "metadata": {},
     "output_type": "execute_result"
    }
   ],
   "source": [
    "abot.graph.get_state(thread)\n"
   ]
  },
  {
   "cell_type": "code",
   "execution_count": 56,
   "id": "6cb3ef4c-58b3-401b-b104-0d51e553d982",
   "metadata": {
    "height": 30
   },
   "outputs": [
    {
     "data": {
      "text/plain": [
       "('action',)"
      ]
     },
     "execution_count": 56,
     "metadata": {},
     "output_type": "execute_result"
    }
   ],
   "source": [
    "abot.graph.get_state(thread).next\n"
   ]
  },
  {
   "cell_type": "markdown",
   "id": "f1f404d5-a3be-42c1-9990-b1e1ee011163",
   "metadata": {},
   "source": [
    "### continue after interrupt"
   ]
  },
  {
   "cell_type": "code",
   "execution_count": 57,
   "id": "dc3293b7-a50c-43c8-a022-8975e1e444b8",
   "metadata": {
    "height": 64
   },
   "outputs": [
    {
     "name": "stdout",
     "output_type": "stream",
     "text": [
      "Calling: {'name': 'tavily_search_results_json', 'args': {'query': 'weather in San Francisco'}, 'id': 'call_wPayYkTwaypt7MAM7FMaX6Rt'}\n",
      "Back to the model!\n",
      "{'messages': [ToolMessage(content=\"HTTPError('502 Server Error: Bad Gateway for url: https://api.tavily.com/search')\", name='tavily_search_results_json', id='ace58c39-ab03-499f-97d9-e634d7d48f7e', tool_call_id='call_wPayYkTwaypt7MAM7FMaX6Rt')]}\n",
      "{'messages': [HumanMessage(content='Whats the weather in SF?', id='09320f12-9ce2-4ad0-ace1-377f04284b2a'), AIMessage(content='', additional_kwargs={'tool_calls': [{'function': {'arguments': '{\"query\":\"weather in San Francisco\"}', 'name': 'tavily_search_results_json'}, 'id': 'call_wPayYkTwaypt7MAM7FMaX6Rt', 'type': 'function'}]}, response_metadata={'finish_reason': 'tool_calls', 'logprobs': None, 'model_name': 'gpt-3.5-turbo', 'system_fingerprint': None, 'token_usage': {'completion_tokens': 22, 'completion_tokens_details': {'accepted_prediction_tokens': 0, 'audio_tokens': 0, 'reasoning_tokens': 0, 'rejected_prediction_tokens': 0}, 'prompt_tokens': 152, 'prompt_tokens_details': {'audio_tokens': 0, 'cached_tokens': 0}, 'total_tokens': 174}}, id='run-40df4b82-4795-45f3-8b77-8d1c1518cfa6-0', tool_calls=[{'name': 'tavily_search_results_json', 'args': {'query': 'weather in San Francisco'}, 'id': 'call_wPayYkTwaypt7MAM7FMaX6Rt'}]), ToolMessage(content=\"HTTPError('502 Server Error: Bad Gateway for url: https://api.tavily.com/search')\", name='tavily_search_results_json', id='ace58c39-ab03-499f-97d9-e634d7d48f7e', tool_call_id='call_wPayYkTwaypt7MAM7FMaX6Rt'), AIMessage(content='It seems there was an issue with retrieving the weather information. Let me try again.', additional_kwargs={'tool_calls': [{'id': 'call_0i8NsbaDISxy3ErUMLl0RlJO', 'function': {'arguments': '{\"query\":\"weather in San Francisco\"}', 'name': 'tavily_search_results_json'}, 'type': 'function'}]}, response_metadata={'token_usage': {'completion_tokens': 41, 'prompt_tokens': 206, 'total_tokens': 247, 'prompt_tokens_details': {'cached_tokens': 0, 'audio_tokens': 0}, 'completion_tokens_details': {'reasoning_tokens': 0, 'audio_tokens': 0, 'accepted_prediction_tokens': 0, 'rejected_prediction_tokens': 0}}, 'model_name': 'gpt-3.5-turbo', 'system_fingerprint': None, 'finish_reason': 'tool_calls', 'logprobs': None}, id='run-1cf7bc0a-4a6d-4913-a7d7-c217a696f32a-0', tool_calls=[{'name': 'tavily_search_results_json', 'args': {'query': 'weather in San Francisco'}, 'id': 'call_0i8NsbaDISxy3ErUMLl0RlJO'}])]}\n",
      "{'messages': [AIMessage(content='It seems there was an issue with retrieving the weather information. Let me try again.', additional_kwargs={'tool_calls': [{'id': 'call_0i8NsbaDISxy3ErUMLl0RlJO', 'function': {'arguments': '{\"query\":\"weather in San Francisco\"}', 'name': 'tavily_search_results_json'}, 'type': 'function'}]}, response_metadata={'token_usage': {'completion_tokens': 41, 'prompt_tokens': 206, 'total_tokens': 247, 'prompt_tokens_details': {'cached_tokens': 0, 'audio_tokens': 0}, 'completion_tokens_details': {'reasoning_tokens': 0, 'audio_tokens': 0, 'accepted_prediction_tokens': 0, 'rejected_prediction_tokens': 0}}, 'model_name': 'gpt-3.5-turbo', 'system_fingerprint': None, 'finish_reason': 'tool_calls', 'logprobs': None}, id='run-1cf7bc0a-4a6d-4913-a7d7-c217a696f32a-0', tool_calls=[{'name': 'tavily_search_results_json', 'args': {'query': 'weather in San Francisco'}, 'id': 'call_0i8NsbaDISxy3ErUMLl0RlJO'}])]}\n"
     ]
    }
   ],
   "source": [
    "for event in abot.graph.stream(None, thread):\n",
    "    for v in event.values():\n",
    "        print(v)\n"
   ]
  },
  {
   "cell_type": "code",
   "execution_count": 58,
   "id": "74b0219d",
   "metadata": {},
   "outputs": [
    {
     "data": {
      "image/png": "[encoded data removed]",
      "text/plain": [
       "<IPython.core.display.Image object>"
      ]
     },
     "execution_count": 58,
     "metadata": {},
     "output_type": "execute_result"
    }
   ],
   "source": [
    "from IPython.display import Image\n",
    "\n",
    "Image(abot.graph.get_graph().draw_png())\n"
   ]
  },
  {
   "cell_type": "code",
   "execution_count": 59,
   "id": "0722c3d4-4cbf-43bf-81b0-50f634c4ce61",
   "metadata": {
    "height": 30
   },
   "outputs": [
    {
     "data": {
      "text/plain": [
       "StateSnapshot(values={'messages': [HumanMessage(content='Whats the weather in SF?', id='09320f12-9ce2-4ad0-ace1-377f04284b2a'), AIMessage(content='', additional_kwargs={'tool_calls': [{'function': {'arguments': '{\"query\":\"weather in San Francisco\"}', 'name': 'tavily_search_results_json'}, 'id': 'call_wPayYkTwaypt7MAM7FMaX6Rt', 'type': 'function'}]}, response_metadata={'finish_reason': 'tool_calls', 'logprobs': None, 'model_name': 'gpt-3.5-turbo', 'system_fingerprint': None, 'token_usage': {'completion_tokens': 22, 'completion_tokens_details': {'accepted_prediction_tokens': 0, 'audio_tokens': 0, 'reasoning_tokens': 0, 'rejected_prediction_tokens': 0}, 'prompt_tokens': 152, 'prompt_tokens_details': {'audio_tokens': 0, 'cached_tokens': 0}, 'total_tokens': 174}}, id='run-40df4b82-4795-45f3-8b77-8d1c1518cfa6-0', tool_calls=[{'name': 'tavily_search_results_json', 'args': {'query': 'weather in San Francisco'}, 'id': 'call_wPayYkTwaypt7MAM7FMaX6Rt'}]), ToolMessage(content=\"HTTPError('502 Server Error: Bad Gateway for url: https://api.tavily.com/search')\", name='tavily_search_results_json', id='ace58c39-ab03-499f-97d9-e634d7d48f7e', tool_call_id='call_wPayYkTwaypt7MAM7FMaX6Rt'), AIMessage(content='It seems there was an issue with retrieving the weather information. Let me try again.', additional_kwargs={'tool_calls': [{'function': {'arguments': '{\"query\":\"weather in San Francisco\"}', 'name': 'tavily_search_results_json'}, 'id': 'call_0i8NsbaDISxy3ErUMLl0RlJO', 'type': 'function'}]}, response_metadata={'finish_reason': 'tool_calls', 'logprobs': None, 'model_name': 'gpt-3.5-turbo', 'system_fingerprint': None, 'token_usage': {'completion_tokens': 41, 'completion_tokens_details': {'accepted_prediction_tokens': 0, 'audio_tokens': 0, 'reasoning_tokens': 0, 'rejected_prediction_tokens': 0}, 'prompt_tokens': 206, 'prompt_tokens_details': {'audio_tokens': 0, 'cached_tokens': 0}, 'total_tokens': 247}}, id='run-1cf7bc0a-4a6d-4913-a7d7-c217a696f32a-0', tool_calls=[{'name': 'tavily_search_results_json', 'args': {'query': 'weather in San Francisco'}, 'id': 'call_0i8NsbaDISxy3ErUMLl0RlJO'}])]}, next=('action',), config={'configurable': {'thread_id': '1', 'thread_ts': '1efc96d1-ebd5-6862-8003-6430547b9554'}}, metadata={'source': 'loop', 'step': 3, 'writes': {'llm': {'messages': [AIMessage(content='It seems there was an issue with retrieving the weather information. Let me try again.', additional_kwargs={'tool_calls': [{'function': {'arguments': '{\"query\":\"weather in San Francisco\"}', 'name': 'tavily_search_results_json'}, 'id': 'call_0i8NsbaDISxy3ErUMLl0RlJO', 'type': 'function'}]}, response_metadata={'finish_reason': 'tool_calls', 'logprobs': None, 'model_name': 'gpt-3.5-turbo', 'system_fingerprint': None, 'token_usage': {'completion_tokens': 41, 'completion_tokens_details': {'accepted_prediction_tokens': 0, 'audio_tokens': 0, 'reasoning_tokens': 0, 'rejected_prediction_tokens': 0}, 'prompt_tokens': 206, 'prompt_tokens_details': {'audio_tokens': 0, 'cached_tokens': 0}, 'total_tokens': 247}}, id='run-1cf7bc0a-4a6d-4913-a7d7-c217a696f32a-0', tool_calls=[{'name': 'tavily_search_results_json', 'args': {'query': 'weather in San Francisco'}, 'id': 'call_0i8NsbaDISxy3ErUMLl0RlJO'}])]}}}, created_at='2025-01-03T00:53:17.611827+00:00', parent_config={'configurable': {'thread_id': '1', 'thread_ts': '1efc96d1-e40f-6efc-8002-54880f57cc46'}})"
      ]
     },
     "execution_count": 59,
     "metadata": {},
     "output_type": "execute_result"
    }
   ],
   "source": [
    "abot.graph.get_state(thread)\n"
   ]
  },
  {
   "cell_type": "code",
   "execution_count": 60,
   "id": "6b2f82fe-3ec4-4917-be51-9fb10d1317fa",
   "metadata": {
    "height": 30
   },
   "outputs": [
    {
     "data": {
      "text/plain": [
       "('action',)"
      ]
     },
     "execution_count": 60,
     "metadata": {},
     "output_type": "execute_result"
    }
   ],
   "source": [
    "abot.graph.get_state(thread).next\n"
   ]
  },
  {
   "cell_type": "code",
   "execution_count": 61,
   "id": "ee0fe1c7-77e2-499c-a2f9-1f739bb6ddf0",
   "metadata": {
    "height": 251
   },
   "outputs": [
    {
     "name": "stdout",
     "output_type": "stream",
     "text": [
      "{'messages': [HumanMessage(content='Whats the weather in LA?', id='106a1a8b-c2db-4504-a961-b05cce191655'), AIMessage(content='', additional_kwargs={'tool_calls': [{'id': 'call_h05VTjYZYeRvutfm4oy5SScp', 'function': {'arguments': '{\"query\":\"weather in Los Angeles\"}', 'name': 'tavily_search_results_json'}, 'type': 'function'}]}, response_metadata={'token_usage': {'completion_tokens': 22, 'prompt_tokens': 152, 'total_tokens': 174, 'prompt_tokens_details': {'cached_tokens': 0, 'audio_tokens': 0}, 'completion_tokens_details': {'reasoning_tokens': 0, 'audio_tokens': 0, 'accepted_prediction_tokens': 0, 'rejected_prediction_tokens': 0}}, 'model_name': 'gpt-3.5-turbo', 'system_fingerprint': None, 'finish_reason': 'tool_calls', 'logprobs': None}, id='run-4a5aa45e-c7e9-42f3-a55a-814baf4abc0e-0', tool_calls=[{'name': 'tavily_search_results_json', 'args': {'query': 'weather in Los Angeles'}, 'id': 'call_h05VTjYZYeRvutfm4oy5SScp'}])]}\n",
      "{'messages': [AIMessage(content='', additional_kwargs={'tool_calls': [{'id': 'call_h05VTjYZYeRvutfm4oy5SScp', 'function': {'arguments': '{\"query\":\"weather in Los Angeles\"}', 'name': 'tavily_search_results_json'}, 'type': 'function'}]}, response_metadata={'token_usage': {'completion_tokens': 22, 'prompt_tokens': 152, 'total_tokens': 174, 'prompt_tokens_details': {'cached_tokens': 0, 'audio_tokens': 0}, 'completion_tokens_details': {'reasoning_tokens': 0, 'audio_tokens': 0, 'accepted_prediction_tokens': 0, 'rejected_prediction_tokens': 0}}, 'model_name': 'gpt-3.5-turbo', 'system_fingerprint': None, 'finish_reason': 'tool_calls', 'logprobs': None}, id='run-4a5aa45e-c7e9-42f3-a55a-814baf4abc0e-0', tool_calls=[{'name': 'tavily_search_results_json', 'args': {'query': 'weather in Los Angeles'}, 'id': 'call_h05VTjYZYeRvutfm4oy5SScp'}])]}\n",
      "\n",
      " StateSnapshot(values={'messages': [HumanMessage(content='Whats the weather in LA?', id='106a1a8b-c2db-4504-a961-b05cce191655'), AIMessage(content='', additional_kwargs={'tool_calls': [{'function': {'arguments': '{\"query\":\"weather in Los Angeles\"}', 'name': 'tavily_search_results_json'}, 'id': 'call_h05VTjYZYeRvutfm4oy5SScp', 'type': 'function'}]}, response_metadata={'finish_reason': 'tool_calls', 'logprobs': None, 'model_name': 'gpt-3.5-turbo', 'system_fingerprint': None, 'token_usage': {'completion_tokens': 22, 'completion_tokens_details': {'accepted_prediction_tokens': 0, 'audio_tokens': 0, 'reasoning_tokens': 0, 'rejected_prediction_tokens': 0}, 'prompt_tokens': 152, 'prompt_tokens_details': {'audio_tokens': 0, 'cached_tokens': 0}, 'total_tokens': 174}}, id='run-4a5aa45e-c7e9-42f3-a55a-814baf4abc0e-0', tool_calls=[{'name': 'tavily_search_results_json', 'args': {'query': 'weather in Los Angeles'}, 'id': 'call_h05VTjYZYeRvutfm4oy5SScp'}])]}, next=('action',), config={'configurable': {'thread_id': '2', 'thread_ts': '1efc96d1-f32f-6784-8001-fcf5e9993c39'}}, metadata={'source': 'loop', 'step': 1, 'writes': {'llm': {'messages': [AIMessage(content='', additional_kwargs={'tool_calls': [{'function': {'arguments': '{\"query\":\"weather in Los Angeles\"}', 'name': 'tavily_search_results_json'}, 'id': 'call_h05VTjYZYeRvutfm4oy5SScp', 'type': 'function'}]}, response_metadata={'finish_reason': 'tool_calls', 'logprobs': None, 'model_name': 'gpt-3.5-turbo', 'system_fingerprint': None, 'token_usage': {'completion_tokens': 22, 'completion_tokens_details': {'accepted_prediction_tokens': 0, 'audio_tokens': 0, 'reasoning_tokens': 0, 'rejected_prediction_tokens': 0}, 'prompt_tokens': 152, 'prompt_tokens_details': {'audio_tokens': 0, 'cached_tokens': 0}, 'total_tokens': 174}}, id='run-4a5aa45e-c7e9-42f3-a55a-814baf4abc0e-0', tool_calls=[{'name': 'tavily_search_results_json', 'args': {'query': 'weather in Los Angeles'}, 'id': 'call_h05VTjYZYeRvutfm4oy5SScp'}])]}}}, created_at='2025-01-03T00:53:18.382666+00:00', parent_config={'configurable': {'thread_id': '2', 'thread_ts': '1efc96d1-edd3-6e5c-8000-6dafbaadd153'}}) \n",
      "\n",
      "aborting\n"
     ]
    }
   ],
   "source": [
    "messages = [HumanMessage(\"Whats the weather in LA?\")]\n",
    "thread = {\"configurable\": {\"thread_id\": \"2\"}}\n",
    "for event in abot.graph.stream({\"messages\": messages}, thread):\n",
    "    for v in event.values():\n",
    "        print(v)\n",
    "while abot.graph.get_state(thread).next:\n",
    "    print(\"\\n\", abot.graph.get_state(thread),\"\\n\")\n",
    "    _input = input(\"proceed?\")\n",
    "    if _input != \"y\":\n",
    "        print(\"aborting\")\n",
    "        break\n",
    "    for event in abot.graph.stream(None, thread):\n",
    "        for v in event.values():\n",
    "            print(v)\n"
   ]
  },
  {
   "cell_type": "markdown",
   "id": "7bbe5689-54ab-49ca-9055-6e5216abd523",
   "metadata": {},
   "source": [
    "## Modify State\n",
    "Run until the interrupt and then modify the state."
   ]
  },
  {
   "cell_type": "code",
   "execution_count": 62,
   "id": "98f303b1-a4d0-408c-8cc0-515ff980717f",
   "metadata": {
    "height": 98
   },
   "outputs": [
    {
     "name": "stdout",
     "output_type": "stream",
     "text": [
      "{'messages': [HumanMessage(content='Whats the weather in LA?', id='1d24dc08-1568-419d-8de3-b01fd0b49eb8'), AIMessage(content='', additional_kwargs={'tool_calls': [{'id': 'call_plzQk8J6lyj0f2b8KPabtE5R', 'function': {'arguments': '{\"query\":\"weather in Los Angeles\"}', 'name': 'tavily_search_results_json'}, 'type': 'function'}]}, response_metadata={'token_usage': {'completion_tokens': 22, 'prompt_tokens': 152, 'total_tokens': 174, 'prompt_tokens_details': {'cached_tokens': 0, 'audio_tokens': 0}, 'completion_tokens_details': {'reasoning_tokens': 0, 'audio_tokens': 0, 'accepted_prediction_tokens': 0, 'rejected_prediction_tokens': 0}}, 'model_name': 'gpt-3.5-turbo', 'system_fingerprint': None, 'finish_reason': 'tool_calls', 'logprobs': None}, id='run-c366194f-6dda-4e5d-9ae2-8859a67a7729-0', tool_calls=[{'name': 'tavily_search_results_json', 'args': {'query': 'weather in Los Angeles'}, 'id': 'call_plzQk8J6lyj0f2b8KPabtE5R'}])]}\n",
      "{'messages': [AIMessage(content='', additional_kwargs={'tool_calls': [{'id': 'call_plzQk8J6lyj0f2b8KPabtE5R', 'function': {'arguments': '{\"query\":\"weather in Los Angeles\"}', 'name': 'tavily_search_results_json'}, 'type': 'function'}]}, response_metadata={'token_usage': {'completion_tokens': 22, 'prompt_tokens': 152, 'total_tokens': 174, 'prompt_tokens_details': {'cached_tokens': 0, 'audio_tokens': 0}, 'completion_tokens_details': {'reasoning_tokens': 0, 'audio_tokens': 0, 'accepted_prediction_tokens': 0, 'rejected_prediction_tokens': 0}}, 'model_name': 'gpt-3.5-turbo', 'system_fingerprint': None, 'finish_reason': 'tool_calls', 'logprobs': None}, id='run-c366194f-6dda-4e5d-9ae2-8859a67a7729-0', tool_calls=[{'name': 'tavily_search_results_json', 'args': {'query': 'weather in Los Angeles'}, 'id': 'call_plzQk8J6lyj0f2b8KPabtE5R'}])]}\n"
     ]
    }
   ],
   "source": [
    "messages = [HumanMessage(\"Whats the weather in LA?\")]\n",
    "thread = {\"configurable\": {\"thread_id\": \"3\"}}\n",
    "for event in abot.graph.stream({\"messages\": messages}, thread):\n",
    "    for v in event.values():\n",
    "        print(v)\n"
   ]
  },
  {
   "cell_type": "code",
   "execution_count": 63,
   "id": "bf4dcb93-6298-4cfd-b3ce-61dfac7fb35f",
   "metadata": {
    "height": 30
   },
   "outputs": [
    {
     "data": {
      "text/plain": [
       "StateSnapshot(values={'messages': [HumanMessage(content='Whats the weather in LA?', id='1d24dc08-1568-419d-8de3-b01fd0b49eb8'), AIMessage(content='', additional_kwargs={'tool_calls': [{'function': {'arguments': '{\"query\":\"weather in Los Angeles\"}', 'name': 'tavily_search_results_json'}, 'id': 'call_plzQk8J6lyj0f2b8KPabtE5R', 'type': 'function'}]}, response_metadata={'finish_reason': 'tool_calls', 'logprobs': None, 'model_name': 'gpt-3.5-turbo', 'system_fingerprint': None, 'token_usage': {'completion_tokens': 22, 'completion_tokens_details': {'accepted_prediction_tokens': 0, 'audio_tokens': 0, 'reasoning_tokens': 0, 'rejected_prediction_tokens': 0}, 'prompt_tokens': 152, 'prompt_tokens_details': {'audio_tokens': 0, 'cached_tokens': 0}, 'total_tokens': 174}}, id='run-c366194f-6dda-4e5d-9ae2-8859a67a7729-0', tool_calls=[{'name': 'tavily_search_results_json', 'args': {'query': 'weather in Los Angeles'}, 'id': 'call_plzQk8J6lyj0f2b8KPabtE5R'}])]}, next=('action',), config={'configurable': {'thread_id': '3', 'thread_ts': '1efc96d2-1ce7-6248-8001-50b61374714b'}}, metadata={'source': 'loop', 'step': 1, 'writes': {'llm': {'messages': [AIMessage(content='', additional_kwargs={'tool_calls': [{'function': {'arguments': '{\"query\":\"weather in Los Angeles\"}', 'name': 'tavily_search_results_json'}, 'id': 'call_plzQk8J6lyj0f2b8KPabtE5R', 'type': 'function'}]}, response_metadata={'finish_reason': 'tool_calls', 'logprobs': None, 'model_name': 'gpt-3.5-turbo', 'system_fingerprint': None, 'token_usage': {'completion_tokens': 22, 'completion_tokens_details': {'accepted_prediction_tokens': 0, 'audio_tokens': 0, 'reasoning_tokens': 0, 'rejected_prediction_tokens': 0}, 'prompt_tokens': 152, 'prompt_tokens_details': {'audio_tokens': 0, 'cached_tokens': 0}, 'total_tokens': 174}}, id='run-c366194f-6dda-4e5d-9ae2-8859a67a7729-0', tool_calls=[{'name': 'tavily_search_results_json', 'args': {'query': 'weather in Los Angeles'}, 'id': 'call_plzQk8J6lyj0f2b8KPabtE5R'}])]}}}, created_at='2025-01-03T00:53:22.757058+00:00', parent_config={'configurable': {'thread_id': '3', 'thread_ts': '1efc96d2-1807-6ac0-8000-5bf36a454196'}})"
      ]
     },
     "execution_count": 63,
     "metadata": {},
     "output_type": "execute_result"
    }
   ],
   "source": [
    "abot.graph.get_state(thread)\n"
   ]
  },
  {
   "cell_type": "code",
   "execution_count": 64,
   "id": "932883a4-c722-42bb-aec0-b4f41c5c81a4",
   "metadata": {
    "height": 30
   },
   "outputs": [],
   "source": [
    "current_values = abot.graph.get_state(thread)\n"
   ]
  },
  {
   "cell_type": "code",
   "execution_count": 65,
   "id": "ff362f49-dcf1-4ea1-a86c-e516e9ab897d",
   "metadata": {
    "height": 30
   },
   "outputs": [
    {
     "data": {
      "text/plain": [
       "AIMessage(content='', additional_kwargs={'tool_calls': [{'function': {'arguments': '{\"query\":\"weather in Los Angeles\"}', 'name': 'tavily_search_results_json'}, 'id': 'call_plzQk8J6lyj0f2b8KPabtE5R', 'type': 'function'}]}, response_metadata={'finish_reason': 'tool_calls', 'logprobs': None, 'model_name': 'gpt-3.5-turbo', 'system_fingerprint': None, 'token_usage': {'completion_tokens': 22, 'completion_tokens_details': {'accepted_prediction_tokens': 0, 'audio_tokens': 0, 'reasoning_tokens': 0, 'rejected_prediction_tokens': 0}, 'prompt_tokens': 152, 'prompt_tokens_details': {'audio_tokens': 0, 'cached_tokens': 0}, 'total_tokens': 174}}, id='run-c366194f-6dda-4e5d-9ae2-8859a67a7729-0', tool_calls=[{'name': 'tavily_search_results_json', 'args': {'query': 'weather in Los Angeles'}, 'id': 'call_plzQk8J6lyj0f2b8KPabtE5R'}])"
      ]
     },
     "execution_count": 65,
     "metadata": {},
     "output_type": "execute_result"
    }
   ],
   "source": [
    "current_values.values['messages'][-1]\n"
   ]
  },
  {
   "cell_type": "code",
   "execution_count": 66,
   "id": "a7e15a20-83d7-434c-8551-bce8dcc32be0",
   "metadata": {
    "height": 30
   },
   "outputs": [
    {
     "data": {
      "text/plain": [
       "[{'name': 'tavily_search_results_json',\n",
       "  'args': {'query': 'weather in Los Angeles'},\n",
       "  'id': 'call_plzQk8J6lyj0f2b8KPabtE5R'}]"
      ]
     },
     "execution_count": 66,
     "metadata": {},
     "output_type": "execute_result"
    }
   ],
   "source": [
    "current_values.values['messages'][-1].tool_calls\n"
   ]
  },
  {
   "cell_type": "code",
   "execution_count": 67,
   "id": "54ab2c74-f32e-490c-a85d-932d11444210",
   "metadata": {
    "height": 115
   },
   "outputs": [],
   "source": [
    "_id = current_values.values['messages'][-1].tool_calls[0]['id']\n",
    "current_values.values['messages'][-1].tool_calls = [\n",
    "    {'name': 'tavily_search_results_json',\n",
    "  'args': {'query': 'current weather in Louisiana'},\n",
    "  'id': _id}\n",
    "]\n"
   ]
  },
  {
   "cell_type": "code",
   "execution_count": 68,
   "id": "a833d3ce-bd31-4319-811d-decff226b970",
   "metadata": {
    "height": 30
   },
   "outputs": [
    {
     "name": "stdout",
     "output_type": "stream",
     "text": [
      "{'messages': [HumanMessage(content='Whats the weather in LA?', id='1d24dc08-1568-419d-8de3-b01fd0b49eb8'), AIMessage(content='', additional_kwargs={'tool_calls': [{'function': {'arguments': '{\"query\":\"weather in Los Angeles\"}', 'name': 'tavily_search_results_json'}, 'id': 'call_plzQk8J6lyj0f2b8KPabtE5R', 'type': 'function'}]}, response_metadata={'finish_reason': 'tool_calls', 'logprobs': None, 'model_name': 'gpt-3.5-turbo', 'system_fingerprint': None, 'token_usage': {'completion_tokens': 22, 'completion_tokens_details': {'accepted_prediction_tokens': 0, 'audio_tokens': 0, 'reasoning_tokens': 0, 'rejected_prediction_tokens': 0}, 'prompt_tokens': 152, 'prompt_tokens_details': {'audio_tokens': 0, 'cached_tokens': 0}, 'total_tokens': 174}}, id='run-c366194f-6dda-4e5d-9ae2-8859a67a7729-0', tool_calls=[{'name': 'tavily_search_results_json', 'args': {'query': 'current weather in Louisiana'}, 'id': 'call_plzQk8J6lyj0f2b8KPabtE5R'}])]}\n"
     ]
    },
    {
     "data": {
      "text/plain": [
       "{'configurable': {'thread_id': '3',\n",
       "  'thread_ts': '1efc96d2-1d66-6390-8002-9a94dc170210'}}"
      ]
     },
     "execution_count": 68,
     "metadata": {},
     "output_type": "execute_result"
    }
   ],
   "source": [
    "abot.graph.update_state(thread, current_values.values)\n"
   ]
  },
  {
   "cell_type": "code",
   "execution_count": 69,
   "id": "76e93cce-6eab-4c7c-ac64-e9993fdb30d6",
   "metadata": {
    "height": 30
   },
   "outputs": [
    {
     "data": {
      "text/plain": [
       "StateSnapshot(values={'messages': [HumanMessage(content='Whats the weather in LA?', id='1d24dc08-1568-419d-8de3-b01fd0b49eb8'), AIMessage(content='', additional_kwargs={'tool_calls': [{'function': {'arguments': '{\"query\":\"weather in Los Angeles\"}', 'name': 'tavily_search_results_json'}, 'id': 'call_plzQk8J6lyj0f2b8KPabtE5R', 'type': 'function'}]}, response_metadata={'finish_reason': 'tool_calls', 'logprobs': None, 'model_name': 'gpt-3.5-turbo', 'system_fingerprint': None, 'token_usage': {'completion_tokens': 22, 'completion_tokens_details': {'accepted_prediction_tokens': 0, 'audio_tokens': 0, 'reasoning_tokens': 0, 'rejected_prediction_tokens': 0}, 'prompt_tokens': 152, 'prompt_tokens_details': {'audio_tokens': 0, 'cached_tokens': 0}, 'total_tokens': 174}}, id='run-c366194f-6dda-4e5d-9ae2-8859a67a7729-0', tool_calls=[{'name': 'tavily_search_results_json', 'args': {'query': 'current weather in Louisiana'}, 'id': 'call_plzQk8J6lyj0f2b8KPabtE5R'}])]}, next=('action',), config={'configurable': {'thread_id': '3', 'thread_ts': '1efc96d2-1d66-6390-8002-9a94dc170210'}}, metadata={'source': 'update', 'step': 2, 'writes': {'llm': {'messages': [HumanMessage(content='Whats the weather in LA?', id='1d24dc08-1568-419d-8de3-b01fd0b49eb8'), AIMessage(content='', additional_kwargs={'tool_calls': [{'function': {'arguments': '{\"query\":\"weather in Los Angeles\"}', 'name': 'tavily_search_results_json'}, 'id': 'call_plzQk8J6lyj0f2b8KPabtE5R', 'type': 'function'}]}, response_metadata={'finish_reason': 'tool_calls', 'logprobs': None, 'model_name': 'gpt-3.5-turbo', 'system_fingerprint': None, 'token_usage': {'completion_tokens': 22, 'completion_tokens_details': {'accepted_prediction_tokens': 0, 'audio_tokens': 0, 'reasoning_tokens': 0, 'rejected_prediction_tokens': 0}, 'prompt_tokens': 152, 'prompt_tokens_details': {'audio_tokens': 0, 'cached_tokens': 0}, 'total_tokens': 174}}, id='run-c366194f-6dda-4e5d-9ae2-8859a67a7729-0', tool_calls=[{'name': 'tavily_search_results_json', 'args': {'query': 'current weather in Louisiana'}, 'id': 'call_plzQk8J6lyj0f2b8KPabtE5R'}])]}}}, created_at='2025-01-03T00:53:22.809118+00:00', parent_config={'configurable': {'thread_id': '3', 'thread_ts': '1efc96d2-1ce7-6248-8001-50b61374714b'}})"
      ]
     },
     "execution_count": 69,
     "metadata": {},
     "output_type": "execute_result"
    }
   ],
   "source": [
    "abot.graph.get_state(thread)\n"
   ]
  },
  {
   "cell_type": "code",
   "execution_count": 70,
   "id": "fd2d0990-a932-423f-9ff3-5cada58c5f32",
   "metadata": {
    "height": 64
   },
   "outputs": [
    {
     "name": "stdout",
     "output_type": "stream",
     "text": [
      "Calling: {'name': 'tavily_search_results_json', 'args': {'query': 'current weather in Louisiana'}, 'id': 'call_plzQk8J6lyj0f2b8KPabtE5R'}\n",
      "Back to the model!\n",
      "{'messages': [ToolMessage(content='[{\\'url\\': \\'https://www.weatherapi.com/\\', \\'content\\': \"{\\'location\\': {\\'name\\': \\'Louisiana\\', \\'region\\': \\'Missouri\\', \\'country\\': \\'USA United States of America\\', \\'lat\\': 39.4411, \\'lon\\': -91.0551, \\'tz_id\\': \\'America/Chicago\\', \\'localtime_epoch\\': 1735865574, \\'localtime\\': \\'2025-01-02 18:52\\'}, \\'current\\': {\\'last_updated_epoch\\': 1735865100, \\'last_updated\\': \\'2025-01-02 18:45\\', \\'temp_c\\': 5.3, \\'temp_f\\': 41.5, \\'is_day\\': 0, \\'condition\\': {\\'text\\': \\'Overcast\\', \\'icon\\': \\'//cdn.weatherapi.com/weather/64x64/night/122.png\\', \\'code\\': 1009}, \\'wind_mph\\': 5.4, \\'wind_kph\\': 8.6, \\'wind_degree\\': 270, \\'wind_dir\\': \\'W\\', \\'pressure_mb\\': 1023.0, \\'pressure_in\\': 30.22, \\'precip_mm\\': 0.0, \\'precip_in\\': 0.0, \\'humidity\\': 62, \\'cloud\\': 100, \\'feelslike_c\\': 3.3, \\'feelslike_f\\': 38.0, \\'windchill_c\\': 2.0, \\'windchill_f\\': 35.7, \\'heatindex_c\\': 4.0, \\'heatindex_f\\': 39.1, \\'dewpoint_c\\': -1.2, \\'dewpoint_f\\': 29.9, \\'vis_km\\': 16.0, \\'vis_miles\\': 9.0, \\'uv\\': 0.0, \\'gust_mph\\': 11.1, \\'gust_kph\\': 17.9}}\"}, {\\'url\\': \\'https://www.weather2travel.com/louisiana/new-orleans/march/\\', \\'content\\': \\'New Orleans March weather guide. Check temperature, rainfall & sunshine averages & more in March 2025 for New Orleans, Louisiana - USA.\\'}]', name='tavily_search_results_json', id='3530b35a-35e5-4572-94ba-9cdc9fb7c266', tool_call_id='call_plzQk8J6lyj0f2b8KPabtE5R')]}\n",
      "{'messages': [HumanMessage(content='Whats the weather in LA?', id='1d24dc08-1568-419d-8de3-b01fd0b49eb8'), AIMessage(content='', additional_kwargs={'tool_calls': [{'function': {'arguments': '{\"query\":\"weather in Los Angeles\"}', 'name': 'tavily_search_results_json'}, 'id': 'call_plzQk8J6lyj0f2b8KPabtE5R', 'type': 'function'}]}, response_metadata={'finish_reason': 'tool_calls', 'logprobs': None, 'model_name': 'gpt-3.5-turbo', 'system_fingerprint': None, 'token_usage': {'completion_tokens': 22, 'completion_tokens_details': {'accepted_prediction_tokens': 0, 'audio_tokens': 0, 'reasoning_tokens': 0, 'rejected_prediction_tokens': 0}, 'prompt_tokens': 152, 'prompt_tokens_details': {'audio_tokens': 0, 'cached_tokens': 0}, 'total_tokens': 174}}, id='run-c366194f-6dda-4e5d-9ae2-8859a67a7729-0', tool_calls=[{'name': 'tavily_search_results_json', 'args': {'query': 'current weather in Louisiana'}, 'id': 'call_plzQk8J6lyj0f2b8KPabtE5R'}]), ToolMessage(content='[{\\'url\\': \\'https://www.weatherapi.com/\\', \\'content\\': \"{\\'location\\': {\\'name\\': \\'Louisiana\\', \\'region\\': \\'Missouri\\', \\'country\\': \\'USA United States of America\\', \\'lat\\': 39.4411, \\'lon\\': -91.0551, \\'tz_id\\': \\'America/Chicago\\', \\'localtime_epoch\\': 1735865574, \\'localtime\\': \\'2025-01-02 18:52\\'}, \\'current\\': {\\'last_updated_epoch\\': 1735865100, \\'last_updated\\': \\'2025-01-02 18:45\\', \\'temp_c\\': 5.3, \\'temp_f\\': 41.5, \\'is_day\\': 0, \\'condition\\': {\\'text\\': \\'Overcast\\', \\'icon\\': \\'//cdn.weatherapi.com/weather/64x64/night/122.png\\', \\'code\\': 1009}, \\'wind_mph\\': 5.4, \\'wind_kph\\': 8.6, \\'wind_degree\\': 270, \\'wind_dir\\': \\'W\\', \\'pressure_mb\\': 1023.0, \\'pressure_in\\': 30.22, \\'precip_mm\\': 0.0, \\'precip_in\\': 0.0, \\'humidity\\': 62, \\'cloud\\': 100, \\'feelslike_c\\': 3.3, \\'feelslike_f\\': 38.0, \\'windchill_c\\': 2.0, \\'windchill_f\\': 35.7, \\'heatindex_c\\': 4.0, \\'heatindex_f\\': 39.1, \\'dewpoint_c\\': -1.2, \\'dewpoint_f\\': 29.9, \\'vis_km\\': 16.0, \\'vis_miles\\': 9.0, \\'uv\\': 0.0, \\'gust_mph\\': 11.1, \\'gust_kph\\': 17.9}}\"}, {\\'url\\': \\'https://www.weather2travel.com/louisiana/new-orleans/march/\\', \\'content\\': \\'New Orleans March weather guide. Check temperature, rainfall & sunshine averages & more in March 2025 for New Orleans, Louisiana - USA.\\'}]', name='tavily_search_results_json', id='3530b35a-35e5-4572-94ba-9cdc9fb7c266', tool_call_id='call_plzQk8J6lyj0f2b8KPabtE5R'), AIMessage(content='I found information about the current weather in Louisiana, USA. The temperature is 5.3°C (41.5°F) with overcast conditions. The wind speed is 5.4 mph coming from the west. The humidity is at 62%, and the visibility is 16.0 km (9.0 miles).', response_metadata={'token_usage': {'completion_tokens': 69, 'prompt_tokens': 647, 'total_tokens': 716, 'prompt_tokens_details': {'cached_tokens': 0, 'audio_tokens': 0}, 'completion_tokens_details': {'reasoning_tokens': 0, 'audio_tokens': 0, 'accepted_prediction_tokens': 0, 'rejected_prediction_tokens': 0}}, 'model_name': 'gpt-3.5-turbo', 'system_fingerprint': None, 'finish_reason': 'stop', 'logprobs': None}, id='run-6b20ad43-1b89-45cf-a1e1-0c7ee691c82a-0')]}\n",
      "{'messages': [AIMessage(content='I found information about the current weather in Louisiana, USA. The temperature is 5.3°C (41.5°F) with overcast conditions. The wind speed is 5.4 mph coming from the west. The humidity is at 62%, and the visibility is 16.0 km (9.0 miles).', response_metadata={'token_usage': {'completion_tokens': 69, 'prompt_tokens': 647, 'total_tokens': 716, 'prompt_tokens_details': {'cached_tokens': 0, 'audio_tokens': 0}, 'completion_tokens_details': {'reasoning_tokens': 0, 'audio_tokens': 0, 'accepted_prediction_tokens': 0, 'rejected_prediction_tokens': 0}}, 'model_name': 'gpt-3.5-turbo', 'system_fingerprint': None, 'finish_reason': 'stop', 'logprobs': None}, id='run-6b20ad43-1b89-45cf-a1e1-0c7ee691c82a-0')]}\n"
     ]
    }
   ],
   "source": [
    "for event in abot.graph.stream(None, thread):\n",
    "    for v in event.values():\n",
    "        print(v)\n"
   ]
  },
  {
   "cell_type": "markdown",
   "id": "e75b870b-e0df-46f1-b29b-fb151ebcbcc3",
   "metadata": {},
   "source": [
    "## Time Travel"
   ]
  },
  {
   "cell_type": "code",
   "execution_count": 71,
   "id": "27cde654-64e2-48bc-80a9-0ed668ccb7dc",
   "metadata": {
    "height": 98
   },
   "outputs": [
    {
     "name": "stdout",
     "output_type": "stream",
     "text": [
      "StateSnapshot(values={'messages': [HumanMessage(content='Whats the weather in LA?', id='1d24dc08-1568-419d-8de3-b01fd0b49eb8'), AIMessage(content='', additional_kwargs={'tool_calls': [{'function': {'arguments': '{\"query\":\"weather in Los Angeles\"}', 'name': 'tavily_search_results_json'}, 'id': 'call_plzQk8J6lyj0f2b8KPabtE5R', 'type': 'function'}]}, response_metadata={'finish_reason': 'tool_calls', 'logprobs': None, 'model_name': 'gpt-3.5-turbo', 'system_fingerprint': None, 'token_usage': {'completion_tokens': 22, 'completion_tokens_details': {'accepted_prediction_tokens': 0, 'audio_tokens': 0, 'reasoning_tokens': 0, 'rejected_prediction_tokens': 0}, 'prompt_tokens': 152, 'prompt_tokens_details': {'audio_tokens': 0, 'cached_tokens': 0}, 'total_tokens': 174}}, id='run-c366194f-6dda-4e5d-9ae2-8859a67a7729-0', tool_calls=[{'name': 'tavily_search_results_json', 'args': {'query': 'current weather in Louisiana'}, 'id': 'call_plzQk8J6lyj0f2b8KPabtE5R'}]), ToolMessage(content='[{\\'url\\': \\'https://www.weatherapi.com/\\', \\'content\\': \"{\\'location\\': {\\'name\\': \\'Louisiana\\', \\'region\\': \\'Missouri\\', \\'country\\': \\'USA United States of America\\', \\'lat\\': 39.4411, \\'lon\\': -91.0551, \\'tz_id\\': \\'America/Chicago\\', \\'localtime_epoch\\': 1735865574, \\'localtime\\': \\'2025-01-02 18:52\\'}, \\'current\\': {\\'last_updated_epoch\\': 1735865100, \\'last_updated\\': \\'2025-01-02 18:45\\', \\'temp_c\\': 5.3, \\'temp_f\\': 41.5, \\'is_day\\': 0, \\'condition\\': {\\'text\\': \\'Overcast\\', \\'icon\\': \\'//cdn.weatherapi.com/weather/64x64/night/122.png\\', \\'code\\': 1009}, \\'wind_mph\\': 5.4, \\'wind_kph\\': 8.6, \\'wind_degree\\': 270, \\'wind_dir\\': \\'W\\', \\'pressure_mb\\': 1023.0, \\'pressure_in\\': 30.22, \\'precip_mm\\': 0.0, \\'precip_in\\': 0.0, \\'humidity\\': 62, \\'cloud\\': 100, \\'feelslike_c\\': 3.3, \\'feelslike_f\\': 38.0, \\'windchill_c\\': 2.0, \\'windchill_f\\': 35.7, \\'heatindex_c\\': 4.0, \\'heatindex_f\\': 39.1, \\'dewpoint_c\\': -1.2, \\'dewpoint_f\\': 29.9, \\'vis_km\\': 16.0, \\'vis_miles\\': 9.0, \\'uv\\': 0.0, \\'gust_mph\\': 11.1, \\'gust_kph\\': 17.9}}\"}, {\\'url\\': \\'https://www.weather2travel.com/louisiana/new-orleans/march/\\', \\'content\\': \\'New Orleans March weather guide. Check temperature, rainfall & sunshine averages & more in March 2025 for New Orleans, Louisiana - USA.\\'}]', name='tavily_search_results_json', id='3530b35a-35e5-4572-94ba-9cdc9fb7c266', tool_call_id='call_plzQk8J6lyj0f2b8KPabtE5R'), AIMessage(content='I found information about the current weather in Louisiana, USA. The temperature is 5.3°C (41.5°F) with overcast conditions. The wind speed is 5.4 mph coming from the west. The humidity is at 62%, and the visibility is 16.0 km (9.0 miles).', response_metadata={'finish_reason': 'stop', 'logprobs': None, 'model_name': 'gpt-3.5-turbo', 'system_fingerprint': None, 'token_usage': {'completion_tokens': 69, 'completion_tokens_details': {'accepted_prediction_tokens': 0, 'audio_tokens': 0, 'reasoning_tokens': 0, 'rejected_prediction_tokens': 0}, 'prompt_tokens': 647, 'prompt_tokens_details': {'audio_tokens': 0, 'cached_tokens': 0}, 'total_tokens': 716}}, id='run-6b20ad43-1b89-45cf-a1e1-0c7ee691c82a-0')]}, next=(), config={'configurable': {'thread_id': '3', 'thread_ts': '1efc96d2-8722-63f6-8004-2918b133be23'}}, metadata={'source': 'loop', 'step': 4, 'writes': {'llm': {'messages': [AIMessage(content='I found information about the current weather in Louisiana, USA. The temperature is 5.3°C (41.5°F) with overcast conditions. The wind speed is 5.4 mph coming from the west. The humidity is at 62%, and the visibility is 16.0 km (9.0 miles).', response_metadata={'finish_reason': 'stop', 'logprobs': None, 'model_name': 'gpt-3.5-turbo', 'system_fingerprint': None, 'token_usage': {'completion_tokens': 69, 'completion_tokens_details': {'accepted_prediction_tokens': 0, 'audio_tokens': 0, 'reasoning_tokens': 0, 'rejected_prediction_tokens': 0}, 'prompt_tokens': 647, 'prompt_tokens_details': {'audio_tokens': 0, 'cached_tokens': 0}, 'total_tokens': 716}}, id='run-6b20ad43-1b89-45cf-a1e1-0c7ee691c82a-0')]}}}, created_at='2025-01-03T00:53:33.896166+00:00', parent_config={'configurable': {'thread_id': '3', 'thread_ts': '1efc96d2-7d56-6e12-8003-250f191342b5'}})\n",
      "--\n",
      "StateSnapshot(values={'messages': [HumanMessage(content='Whats the weather in LA?', id='1d24dc08-1568-419d-8de3-b01fd0b49eb8'), AIMessage(content='', additional_kwargs={'tool_calls': [{'function': {'arguments': '{\"query\":\"weather in Los Angeles\"}', 'name': 'tavily_search_results_json'}, 'id': 'call_plzQk8J6lyj0f2b8KPabtE5R', 'type': 'function'}]}, response_metadata={'finish_reason': 'tool_calls', 'logprobs': None, 'model_name': 'gpt-3.5-turbo', 'system_fingerprint': None, 'token_usage': {'completion_tokens': 22, 'completion_tokens_details': {'accepted_prediction_tokens': 0, 'audio_tokens': 0, 'reasoning_tokens': 0, 'rejected_prediction_tokens': 0}, 'prompt_tokens': 152, 'prompt_tokens_details': {'audio_tokens': 0, 'cached_tokens': 0}, 'total_tokens': 174}}, id='run-c366194f-6dda-4e5d-9ae2-8859a67a7729-0', tool_calls=[{'name': 'tavily_search_results_json', 'args': {'query': 'current weather in Louisiana'}, 'id': 'call_plzQk8J6lyj0f2b8KPabtE5R'}]), ToolMessage(content='[{\\'url\\': \\'https://www.weatherapi.com/\\', \\'content\\': \"{\\'location\\': {\\'name\\': \\'Louisiana\\', \\'region\\': \\'Missouri\\', \\'country\\': \\'USA United States of America\\', \\'lat\\': 39.4411, \\'lon\\': -91.0551, \\'tz_id\\': \\'America/Chicago\\', \\'localtime_epoch\\': 1735865574, \\'localtime\\': \\'2025-01-02 18:52\\'}, \\'current\\': {\\'last_updated_epoch\\': 1735865100, \\'last_updated\\': \\'2025-01-02 18:45\\', \\'temp_c\\': 5.3, \\'temp_f\\': 41.5, \\'is_day\\': 0, \\'condition\\': {\\'text\\': \\'Overcast\\', \\'icon\\': \\'//cdn.weatherapi.com/weather/64x64/night/122.png\\', \\'code\\': 1009}, \\'wind_mph\\': 5.4, \\'wind_kph\\': 8.6, \\'wind_degree\\': 270, \\'wind_dir\\': \\'W\\', \\'pressure_mb\\': 1023.0, \\'pressure_in\\': 30.22, \\'precip_mm\\': 0.0, \\'precip_in\\': 0.0, \\'humidity\\': 62, \\'cloud\\': 100, \\'feelslike_c\\': 3.3, \\'feelslike_f\\': 38.0, \\'windchill_c\\': 2.0, \\'windchill_f\\': 35.7, \\'heatindex_c\\': 4.0, \\'heatindex_f\\': 39.1, \\'dewpoint_c\\': -1.2, \\'dewpoint_f\\': 29.9, \\'vis_km\\': 16.0, \\'vis_miles\\': 9.0, \\'uv\\': 0.0, \\'gust_mph\\': 11.1, \\'gust_kph\\': 17.9}}\"}, {\\'url\\': \\'https://www.weather2travel.com/louisiana/new-orleans/march/\\', \\'content\\': \\'New Orleans March weather guide. Check temperature, rainfall & sunshine averages & more in March 2025 for New Orleans, Louisiana - USA.\\'}]', name='tavily_search_results_json', id='3530b35a-35e5-4572-94ba-9cdc9fb7c266', tool_call_id='call_plzQk8J6lyj0f2b8KPabtE5R')]}, next=('llm',), config={'configurable': {'thread_id': '3', 'thread_ts': '1efc96d2-7d56-6e12-8003-250f191342b5'}}, metadata={'source': 'loop', 'step': 3, 'writes': {'action': {'messages': [ToolMessage(content='[{\\'url\\': \\'https://www.weatherapi.com/\\', \\'content\\': \"{\\'location\\': {\\'name\\': \\'Louisiana\\', \\'region\\': \\'Missouri\\', \\'country\\': \\'USA United States of America\\', \\'lat\\': 39.4411, \\'lon\\': -91.0551, \\'tz_id\\': \\'America/Chicago\\', \\'localtime_epoch\\': 1735865574, \\'localtime\\': \\'2025-01-02 18:52\\'}, \\'current\\': {\\'last_updated_epoch\\': 1735865100, \\'last_updated\\': \\'2025-01-02 18:45\\', \\'temp_c\\': 5.3, \\'temp_f\\': 41.5, \\'is_day\\': 0, \\'condition\\': {\\'text\\': \\'Overcast\\', \\'icon\\': \\'//cdn.weatherapi.com/weather/64x64/night/122.png\\', \\'code\\': 1009}, \\'wind_mph\\': 5.4, \\'wind_kph\\': 8.6, \\'wind_degree\\': 270, \\'wind_dir\\': \\'W\\', \\'pressure_mb\\': 1023.0, \\'pressure_in\\': 30.22, \\'precip_mm\\': 0.0, \\'precip_in\\': 0.0, \\'humidity\\': 62, \\'cloud\\': 100, \\'feelslike_c\\': 3.3, \\'feelslike_f\\': 38.0, \\'windchill_c\\': 2.0, \\'windchill_f\\': 35.7, \\'heatindex_c\\': 4.0, \\'heatindex_f\\': 39.1, \\'dewpoint_c\\': -1.2, \\'dewpoint_f\\': 29.9, \\'vis_km\\': 16.0, \\'vis_miles\\': 9.0, \\'uv\\': 0.0, \\'gust_mph\\': 11.1, \\'gust_kph\\': 17.9}}\"}, {\\'url\\': \\'https://www.weather2travel.com/louisiana/new-orleans/march/\\', \\'content\\': \\'New Orleans March weather guide. Check temperature, rainfall & sunshine averages & more in March 2025 for New Orleans, Louisiana - USA.\\'}]', name='tavily_search_results_json', id='3530b35a-35e5-4572-94ba-9cdc9fb7c266', tool_call_id='call_plzQk8J6lyj0f2b8KPabtE5R')]}}}, created_at='2025-01-03T00:53:32.869151+00:00', parent_config={'configurable': {'thread_id': '3', 'thread_ts': '1efc96d2-1d66-6390-8002-9a94dc170210'}})\n",
      "--\n",
      "StateSnapshot(values={'messages': [HumanMessage(content='Whats the weather in LA?', id='1d24dc08-1568-419d-8de3-b01fd0b49eb8'), AIMessage(content='', additional_kwargs={'tool_calls': [{'function': {'arguments': '{\"query\":\"weather in Los Angeles\"}', 'name': 'tavily_search_results_json'}, 'id': 'call_plzQk8J6lyj0f2b8KPabtE5R', 'type': 'function'}]}, response_metadata={'finish_reason': 'tool_calls', 'logprobs': None, 'model_name': 'gpt-3.5-turbo', 'system_fingerprint': None, 'token_usage': {'completion_tokens': 22, 'completion_tokens_details': {'accepted_prediction_tokens': 0, 'audio_tokens': 0, 'reasoning_tokens': 0, 'rejected_prediction_tokens': 0}, 'prompt_tokens': 152, 'prompt_tokens_details': {'audio_tokens': 0, 'cached_tokens': 0}, 'total_tokens': 174}}, id='run-c366194f-6dda-4e5d-9ae2-8859a67a7729-0', tool_calls=[{'name': 'tavily_search_results_json', 'args': {'query': 'current weather in Louisiana'}, 'id': 'call_plzQk8J6lyj0f2b8KPabtE5R'}])]}, next=('action',), config={'configurable': {'thread_id': '3', 'thread_ts': '1efc96d2-1d66-6390-8002-9a94dc170210'}}, metadata={'source': 'update', 'step': 2, 'writes': {'llm': {'messages': [HumanMessage(content='Whats the weather in LA?', id='1d24dc08-1568-419d-8de3-b01fd0b49eb8'), AIMessage(content='', additional_kwargs={'tool_calls': [{'function': {'arguments': '{\"query\":\"weather in Los Angeles\"}', 'name': 'tavily_search_results_json'}, 'id': 'call_plzQk8J6lyj0f2b8KPabtE5R', 'type': 'function'}]}, response_metadata={'finish_reason': 'tool_calls', 'logprobs': None, 'model_name': 'gpt-3.5-turbo', 'system_fingerprint': None, 'token_usage': {'completion_tokens': 22, 'completion_tokens_details': {'accepted_prediction_tokens': 0, 'audio_tokens': 0, 'reasoning_tokens': 0, 'rejected_prediction_tokens': 0}, 'prompt_tokens': 152, 'prompt_tokens_details': {'audio_tokens': 0, 'cached_tokens': 0}, 'total_tokens': 174}}, id='run-c366194f-6dda-4e5d-9ae2-8859a67a7729-0', tool_calls=[{'name': 'tavily_search_results_json', 'args': {'query': 'current weather in Louisiana'}, 'id': 'call_plzQk8J6lyj0f2b8KPabtE5R'}])]}}}, created_at='2025-01-03T00:53:22.809118+00:00', parent_config={'configurable': {'thread_id': '3', 'thread_ts': '1efc96d2-1ce7-6248-8001-50b61374714b'}})\n",
      "--\n",
      "StateSnapshot(values={'messages': [HumanMessage(content='Whats the weather in LA?', id='1d24dc08-1568-419d-8de3-b01fd0b49eb8'), AIMessage(content='', additional_kwargs={'tool_calls': [{'function': {'arguments': '{\"query\":\"weather in Los Angeles\"}', 'name': 'tavily_search_results_json'}, 'id': 'call_plzQk8J6lyj0f2b8KPabtE5R', 'type': 'function'}]}, response_metadata={'finish_reason': 'tool_calls', 'logprobs': None, 'model_name': 'gpt-3.5-turbo', 'system_fingerprint': None, 'token_usage': {'completion_tokens': 22, 'completion_tokens_details': {'accepted_prediction_tokens': 0, 'audio_tokens': 0, 'reasoning_tokens': 0, 'rejected_prediction_tokens': 0}, 'prompt_tokens': 152, 'prompt_tokens_details': {'audio_tokens': 0, 'cached_tokens': 0}, 'total_tokens': 174}}, id='run-c366194f-6dda-4e5d-9ae2-8859a67a7729-0', tool_calls=[{'name': 'tavily_search_results_json', 'args': {'query': 'weather in Los Angeles'}, 'id': 'call_plzQk8J6lyj0f2b8KPabtE5R'}])]}, next=('action',), config={'configurable': {'thread_id': '3', 'thread_ts': '1efc96d2-1ce7-6248-8001-50b61374714b'}}, metadata={'source': 'loop', 'step': 1, 'writes': {'llm': {'messages': [AIMessage(content='', additional_kwargs={'tool_calls': [{'function': {'arguments': '{\"query\":\"weather in Los Angeles\"}', 'name': 'tavily_search_results_json'}, 'id': 'call_plzQk8J6lyj0f2b8KPabtE5R', 'type': 'function'}]}, response_metadata={'finish_reason': 'tool_calls', 'logprobs': None, 'model_name': 'gpt-3.5-turbo', 'system_fingerprint': None, 'token_usage': {'completion_tokens': 22, 'completion_tokens_details': {'accepted_prediction_tokens': 0, 'audio_tokens': 0, 'reasoning_tokens': 0, 'rejected_prediction_tokens': 0}, 'prompt_tokens': 152, 'prompt_tokens_details': {'audio_tokens': 0, 'cached_tokens': 0}, 'total_tokens': 174}}, id='run-c366194f-6dda-4e5d-9ae2-8859a67a7729-0', tool_calls=[{'name': 'tavily_search_results_json', 'args': {'query': 'weather in Los Angeles'}, 'id': 'call_plzQk8J6lyj0f2b8KPabtE5R'}])]}}}, created_at='2025-01-03T00:53:22.757058+00:00', parent_config={'configurable': {'thread_id': '3', 'thread_ts': '1efc96d2-1807-6ac0-8000-5bf36a454196'}})\n",
      "--\n",
      "StateSnapshot(values={'messages': [HumanMessage(content='Whats the weather in LA?', id='1d24dc08-1568-419d-8de3-b01fd0b49eb8')]}, next=('llm',), config={'configurable': {'thread_id': '3', 'thread_ts': '1efc96d2-1807-6ac0-8000-5bf36a454196'}}, metadata={'source': 'loop', 'step': 0, 'writes': None}, created_at='2025-01-03T00:53:22.246096+00:00', parent_config={'configurable': {'thread_id': '3', 'thread_ts': '1efc96d2-1803-6e02-bfff-08889fff0cf1'}})\n",
      "--\n",
      "StateSnapshot(values={'messages': []}, next=('__start__',), config={'configurable': {'thread_id': '3', 'thread_ts': '1efc96d2-1803-6e02-bfff-08889fff0cf1'}}, metadata={'source': 'input', 'step': -1, 'writes': {'messages': [HumanMessage(content='Whats the weather in LA?')]}}, created_at='2025-01-03T00:53:22.244545+00:00', parent_config=None)\n",
      "--\n"
     ]
    }
   ],
   "source": [
    "states = []\n",
    "for state in abot.graph.get_state_history(thread):\n",
    "    print(state)\n",
    "    print('--')\n",
    "    states.append(state)\n"
   ]
  },
  {
   "cell_type": "markdown",
   "id": "449896c8-6ec6-4166-b640-9cd1530336a0",
   "metadata": {},
   "source": [
    "To fetch the same state as was filmed, the offset below is changed to `-3` from `-1`. This accounts for the initial state `__start__` and the first state that are now stored to state memory with the latest version of software."
   ]
  },
  {
   "cell_type": "code",
   "execution_count": 72,
   "id": "4871f644-b131-4065-b7ce-b82c20a41f11",
   "metadata": {
    "height": 30
   },
   "outputs": [],
   "source": [
    "to_replay = states[-3]\n"
   ]
  },
  {
   "cell_type": "code",
   "execution_count": 73,
   "id": "8c3d8070-3f36-4cf0-a677-508e54359c8f",
   "metadata": {
    "height": 30
   },
   "outputs": [
    {
     "data": {
      "text/plain": [
       "StateSnapshot(values={'messages': [HumanMessage(content='Whats the weather in LA?', id='1d24dc08-1568-419d-8de3-b01fd0b49eb8'), AIMessage(content='', additional_kwargs={'tool_calls': [{'function': {'arguments': '{\"query\":\"weather in Los Angeles\"}', 'name': 'tavily_search_results_json'}, 'id': 'call_plzQk8J6lyj0f2b8KPabtE5R', 'type': 'function'}]}, response_metadata={'finish_reason': 'tool_calls', 'logprobs': None, 'model_name': 'gpt-3.5-turbo', 'system_fingerprint': None, 'token_usage': {'completion_tokens': 22, 'completion_tokens_details': {'accepted_prediction_tokens': 0, 'audio_tokens': 0, 'reasoning_tokens': 0, 'rejected_prediction_tokens': 0}, 'prompt_tokens': 152, 'prompt_tokens_details': {'audio_tokens': 0, 'cached_tokens': 0}, 'total_tokens': 174}}, id='run-c366194f-6dda-4e5d-9ae2-8859a67a7729-0', tool_calls=[{'name': 'tavily_search_results_json', 'args': {'query': 'weather in Los Angeles'}, 'id': 'call_plzQk8J6lyj0f2b8KPabtE5R'}])]}, next=('action',), config={'configurable': {'thread_id': '3', 'thread_ts': '1efc96d2-1ce7-6248-8001-50b61374714b'}}, metadata={'source': 'loop', 'step': 1, 'writes': {'llm': {'messages': [AIMessage(content='', additional_kwargs={'tool_calls': [{'function': {'arguments': '{\"query\":\"weather in Los Angeles\"}', 'name': 'tavily_search_results_json'}, 'id': 'call_plzQk8J6lyj0f2b8KPabtE5R', 'type': 'function'}]}, response_metadata={'finish_reason': 'tool_calls', 'logprobs': None, 'model_name': 'gpt-3.5-turbo', 'system_fingerprint': None, 'token_usage': {'completion_tokens': 22, 'completion_tokens_details': {'accepted_prediction_tokens': 0, 'audio_tokens': 0, 'reasoning_tokens': 0, 'rejected_prediction_tokens': 0}, 'prompt_tokens': 152, 'prompt_tokens_details': {'audio_tokens': 0, 'cached_tokens': 0}, 'total_tokens': 174}}, id='run-c366194f-6dda-4e5d-9ae2-8859a67a7729-0', tool_calls=[{'name': 'tavily_search_results_json', 'args': {'query': 'weather in Los Angeles'}, 'id': 'call_plzQk8J6lyj0f2b8KPabtE5R'}])]}}}, created_at='2025-01-03T00:53:22.757058+00:00', parent_config={'configurable': {'thread_id': '3', 'thread_ts': '1efc96d2-1807-6ac0-8000-5bf36a454196'}})"
      ]
     },
     "execution_count": 73,
     "metadata": {},
     "output_type": "execute_result"
    }
   ],
   "source": [
    "to_replay\n"
   ]
  },
  {
   "cell_type": "code",
   "execution_count": 75,
   "id": "98f3be1d-cc4c-41fa-9863-3e386e88e305",
   "metadata": {
    "height": 64
   },
   "outputs": [
    {
     "name": "stdout",
     "output_type": "stream",
     "text": [
      "Calling: {'name': 'tavily_search_results_json', 'args': {'query': 'weather in Los Angeles'}, 'id': 'call_plzQk8J6lyj0f2b8KPabtE5R'}\n",
      "Back to the model!\n",
      "{'messages': [ToolMessage(content='[{\\'url\\': \\'https://www.weatherapi.com/\\', \\'content\\': \"{\\'location\\': {\\'name\\': \\'Los Angeles\\', \\'region\\': \\'California\\', \\'country\\': \\'United States of America\\', \\'lat\\': 34.0522, \\'lon\\': -118.2428, \\'tz_id\\': \\'America/Los_Angeles\\', \\'localtime_epoch\\': 1735863241, \\'localtime\\': \\'2025-01-02 16:14\\'}, \\'current\\': {\\'last_updated_epoch\\': 1735862400, \\'last_updated\\': \\'2025-01-02 16:00\\', \\'temp_c\\': 25.6, \\'temp_f\\': 78.1, \\'is_day\\': 1, \\'condition\\': {\\'text\\': \\'Sunny\\', \\'icon\\': \\'//cdn.weatherapi.com/weather/64x64/day/113.png\\', \\'code\\': 1000}, \\'wind_mph\\': 3.8, \\'wind_kph\\': 6.1, \\'wind_degree\\': 232, \\'wind_dir\\': \\'SW\\', \\'pressure_mb\\': 1017.0, \\'pressure_in\\': 30.02, \\'precip_mm\\': 0.0, \\'precip_in\\': 0.0, \\'humidity\\': 12, \\'cloud\\': 0, \\'feelslike_c\\': 24.4, \\'feelslike_f\\': 76.0, \\'windchill_c\\': 23.7, \\'windchill_f\\': 74.6, \\'heatindex_c\\': 23.5, \\'heatindex_f\\': 74.3, \\'dewpoint_c\\': 2.0, \\'dewpoint_f\\': 35.6, \\'vis_km\\': 16.0, \\'vis_miles\\': 9.0, \\'uv\\': 0.2, \\'gust_mph\\': 4.8, \\'gust_kph\\': 7.7}}\"}, {\\'url\\': \\'https://world-weather.info/forecast/usa/los_angeles/march-2025/\\', \\'content\\': \"Weather in Los Angeles in March 2025 (California) - Detailed Weather Forecast for a Month Weather Weather in Los Angeles Weather in Los Angeles in March 2025 Los Angeles Weather Forecast for March 2025, is based on previous years\\' statistical data. +64°+52° +64°+54° +64°+54° +64°+54° +64°+52° +63°+52° +66°+54° +66°+55° +66°+55° +64°+55° +64°+54° +64°+54° +64°+54° +64°+54° +64°+54° +64°+54° +64°+54° +64°+54° +64°+54° +64°+54° +64°+55° +64°+55° +64°+55° +64°+54° +64°+54° +64°+54° +66°+55° +66°+55° +66°+55° +66°+55° +66°+57° Extended weather forecast in Los Angeles HourlyWeek10-Day14-Day30-DayYear Weather in large and nearby cities Weather in Washington, D.C.+36° Sacramento+57° Monterey Park+72° North Glendale+73° Norwalk+68° Pasadena+73° Rosemead+72° Santa Monica+54° South El Monte+72° Manhattan Beach+61° Inglewood+57° Bellflower+66° Beverly Hills+64° Burbank+75° Compton+63° Beverly Grove+64° Mira Monte+61° world\\'s temperature today day day Temperature units\"}]', name='tavily_search_results_json', id='9f4f46da-c7de-4758-b496-71a0235f2913', tool_call_id='call_plzQk8J6lyj0f2b8KPabtE5R')]}\n",
      "{'messages': [HumanMessage(content='Whats the weather in LA?', id='1d24dc08-1568-419d-8de3-b01fd0b49eb8'), AIMessage(content='', additional_kwargs={'tool_calls': [{'function': {'arguments': '{\"query\":\"weather in Los Angeles\"}', 'name': 'tavily_search_results_json'}, 'id': 'call_plzQk8J6lyj0f2b8KPabtE5R', 'type': 'function'}]}, response_metadata={'finish_reason': 'tool_calls', 'logprobs': None, 'model_name': 'gpt-3.5-turbo', 'system_fingerprint': None, 'token_usage': {'completion_tokens': 22, 'completion_tokens_details': {'accepted_prediction_tokens': 0, 'audio_tokens': 0, 'reasoning_tokens': 0, 'rejected_prediction_tokens': 0}, 'prompt_tokens': 152, 'prompt_tokens_details': {'audio_tokens': 0, 'cached_tokens': 0}, 'total_tokens': 174}}, id='run-c366194f-6dda-4e5d-9ae2-8859a67a7729-0', tool_calls=[{'name': 'tavily_search_results_json', 'args': {'query': 'weather in Los Angeles'}, 'id': 'call_plzQk8J6lyj0f2b8KPabtE5R'}]), ToolMessage(content='[{\\'url\\': \\'https://www.weatherapi.com/\\', \\'content\\': \"{\\'location\\': {\\'name\\': \\'Los Angeles\\', \\'region\\': \\'California\\', \\'country\\': \\'United States of America\\', \\'lat\\': 34.0522, \\'lon\\': -118.2428, \\'tz_id\\': \\'America/Los_Angeles\\', \\'localtime_epoch\\': 1735863241, \\'localtime\\': \\'2025-01-02 16:14\\'}, \\'current\\': {\\'last_updated_epoch\\': 1735862400, \\'last_updated\\': \\'2025-01-02 16:00\\', \\'temp_c\\': 25.6, \\'temp_f\\': 78.1, \\'is_day\\': 1, \\'condition\\': {\\'text\\': \\'Sunny\\', \\'icon\\': \\'//cdn.weatherapi.com/weather/64x64/day/113.png\\', \\'code\\': 1000}, \\'wind_mph\\': 3.8, \\'wind_kph\\': 6.1, \\'wind_degree\\': 232, \\'wind_dir\\': \\'SW\\', \\'pressure_mb\\': 1017.0, \\'pressure_in\\': 30.02, \\'precip_mm\\': 0.0, \\'precip_in\\': 0.0, \\'humidity\\': 12, \\'cloud\\': 0, \\'feelslike_c\\': 24.4, \\'feelslike_f\\': 76.0, \\'windchill_c\\': 23.7, \\'windchill_f\\': 74.6, \\'heatindex_c\\': 23.5, \\'heatindex_f\\': 74.3, \\'dewpoint_c\\': 2.0, \\'dewpoint_f\\': 35.6, \\'vis_km\\': 16.0, \\'vis_miles\\': 9.0, \\'uv\\': 0.2, \\'gust_mph\\': 4.8, \\'gust_kph\\': 7.7}}\"}, {\\'url\\': \\'https://world-weather.info/forecast/usa/los_angeles/march-2025/\\', \\'content\\': \"Weather in Los Angeles in March 2025 (California) - Detailed Weather Forecast for a Month Weather Weather in Los Angeles Weather in Los Angeles in March 2025 Los Angeles Weather Forecast for March 2025, is based on previous years\\' statistical data. +64°+52° +64°+54° +64°+54° +64°+54° +64°+52° +63°+52° +66°+54° +66°+55° +66°+55° +64°+55° +64°+54° +64°+54° +64°+54° +64°+54° +64°+54° +64°+54° +64°+54° +64°+54° +64°+54° +64°+54° +64°+55° +64°+55° +64°+55° +64°+54° +64°+54° +64°+54° +66°+55° +66°+55° +66°+55° +66°+55° +66°+57° Extended weather forecast in Los Angeles HourlyWeek10-Day14-Day30-DayYear Weather in large and nearby cities Weather in Washington, D.C.+36° Sacramento+57° Monterey Park+72° North Glendale+73° Norwalk+68° Pasadena+73° Rosemead+72° Santa Monica+54° South El Monte+72° Manhattan Beach+61° Inglewood+57° Bellflower+66° Beverly Hills+64° Burbank+75° Compton+63° Beverly Grove+64° Mira Monte+61° world\\'s temperature today day day Temperature units\"}]', name='tavily_search_results_json', id='9f4f46da-c7de-4758-b496-71a0235f2913', tool_call_id='call_plzQk8J6lyj0f2b8KPabtE5R'), AIMessage(content='The current weather in Los Angeles is 78.1°F (25.6°C) with sunny conditions. The wind speed is 3.8 mph (6.1 kph) coming from the southwest direction. The humidity is 12%, and there is no precipitation at the moment.', response_metadata={'token_usage': {'completion_tokens': 61, 'prompt_tokens': 985, 'total_tokens': 1046, 'prompt_tokens_details': {'cached_tokens': 0, 'audio_tokens': 0}, 'completion_tokens_details': {'reasoning_tokens': 0, 'audio_tokens': 0, 'accepted_prediction_tokens': 0, 'rejected_prediction_tokens': 0}}, 'model_name': 'gpt-3.5-turbo', 'system_fingerprint': None, 'finish_reason': 'stop', 'logprobs': None}, id='run-eb2e9cf9-1ece-4422-a871-82b635dce1f8-0')]}\n",
      "{'messages': [AIMessage(content='The current weather in Los Angeles is 78.1°F (25.6°C) with sunny conditions. The wind speed is 3.8 mph (6.1 kph) coming from the southwest direction. The humidity is 12%, and there is no precipitation at the moment.', response_metadata={'token_usage': {'completion_tokens': 61, 'prompt_tokens': 985, 'total_tokens': 1046, 'prompt_tokens_details': {'cached_tokens': 0, 'audio_tokens': 0}, 'completion_tokens_details': {'reasoning_tokens': 0, 'audio_tokens': 0, 'accepted_prediction_tokens': 0, 'rejected_prediction_tokens': 0}}, 'model_name': 'gpt-3.5-turbo', 'system_fingerprint': None, 'finish_reason': 'stop', 'logprobs': None}, id='run-eb2e9cf9-1ece-4422-a871-82b635dce1f8-0')]}\n"
     ]
    }
   ],
   "source": [
    "for event in abot.graph.stream(None, to_replay.config):\n",
    "    for k, v in event.items():\n",
    "        print(v)\n"
   ]
  },
  {
   "cell_type": "markdown",
   "id": "005353dc-630b-4b40-ab19-56c57ac06611",
   "metadata": {},
   "source": [
    "## Go back in time and edit"
   ]
  },
  {
   "cell_type": "code",
   "execution_count": 76,
   "id": "0ad8a6cc-65d4-4ce7-87aa-4e67d7c23d7b",
   "metadata": {
    "height": 30
   },
   "outputs": [
    {
     "data": {
      "text/plain": [
       "StateSnapshot(values={'messages': [HumanMessage(content='Whats the weather in LA?', id='1d24dc08-1568-419d-8de3-b01fd0b49eb8'), AIMessage(content='', additional_kwargs={'tool_calls': [{'function': {'arguments': '{\"query\":\"weather in Los Angeles\"}', 'name': 'tavily_search_results_json'}, 'id': 'call_plzQk8J6lyj0f2b8KPabtE5R', 'type': 'function'}]}, response_metadata={'finish_reason': 'tool_calls', 'logprobs': None, 'model_name': 'gpt-3.5-turbo', 'system_fingerprint': None, 'token_usage': {'completion_tokens': 22, 'completion_tokens_details': {'accepted_prediction_tokens': 0, 'audio_tokens': 0, 'reasoning_tokens': 0, 'rejected_prediction_tokens': 0}, 'prompt_tokens': 152, 'prompt_tokens_details': {'audio_tokens': 0, 'cached_tokens': 0}, 'total_tokens': 174}}, id='run-c366194f-6dda-4e5d-9ae2-8859a67a7729-0', tool_calls=[{'name': 'tavily_search_results_json', 'args': {'query': 'weather in Los Angeles'}, 'id': 'call_plzQk8J6lyj0f2b8KPabtE5R'}])]}, next=('action',), config={'configurable': {'thread_id': '3', 'thread_ts': '1efc96d2-1ce7-6248-8001-50b61374714b'}}, metadata={'source': 'loop', 'step': 1, 'writes': {'llm': {'messages': [AIMessage(content='', additional_kwargs={'tool_calls': [{'function': {'arguments': '{\"query\":\"weather in Los Angeles\"}', 'name': 'tavily_search_results_json'}, 'id': 'call_plzQk8J6lyj0f2b8KPabtE5R', 'type': 'function'}]}, response_metadata={'finish_reason': 'tool_calls', 'logprobs': None, 'model_name': 'gpt-3.5-turbo', 'system_fingerprint': None, 'token_usage': {'completion_tokens': 22, 'completion_tokens_details': {'accepted_prediction_tokens': 0, 'audio_tokens': 0, 'reasoning_tokens': 0, 'rejected_prediction_tokens': 0}, 'prompt_tokens': 152, 'prompt_tokens_details': {'audio_tokens': 0, 'cached_tokens': 0}, 'total_tokens': 174}}, id='run-c366194f-6dda-4e5d-9ae2-8859a67a7729-0', tool_calls=[{'name': 'tavily_search_results_json', 'args': {'query': 'weather in Los Angeles'}, 'id': 'call_plzQk8J6lyj0f2b8KPabtE5R'}])]}}}, created_at='2025-01-03T00:53:22.757058+00:00', parent_config={'configurable': {'thread_id': '3', 'thread_ts': '1efc96d2-1807-6ac0-8000-5bf36a454196'}})"
      ]
     },
     "execution_count": 76,
     "metadata": {},
     "output_type": "execute_result"
    }
   ],
   "source": [
    "to_replay\n"
   ]
  },
  {
   "cell_type": "code",
   "execution_count": 77,
   "id": "592b5e62-a203-433c-92a0-3783f490cde1",
   "metadata": {
    "height": 81
   },
   "outputs": [],
   "source": [
    "_id = to_replay.values['messages'][-1].tool_calls[0]['id']\n",
    "to_replay.values['messages'][-1].tool_calls = [{'name': 'tavily_search_results_json',\n",
    "  'args': {'query': 'current weather in LA, accuweather'},\n",
    "  'id': _id}]\n"
   ]
  },
  {
   "cell_type": "code",
   "execution_count": 78,
   "id": "14fa923c-7e4f-42d1-965f-0f8ccd50fbd7",
   "metadata": {
    "height": 30
   },
   "outputs": [
    {
     "name": "stdout",
     "output_type": "stream",
     "text": [
      "{'messages': [HumanMessage(content='Whats the weather in LA?', id='1d24dc08-1568-419d-8de3-b01fd0b49eb8'), AIMessage(content='', additional_kwargs={'tool_calls': [{'function': {'arguments': '{\"query\":\"weather in Los Angeles\"}', 'name': 'tavily_search_results_json'}, 'id': 'call_plzQk8J6lyj0f2b8KPabtE5R', 'type': 'function'}]}, response_metadata={'finish_reason': 'tool_calls', 'logprobs': None, 'model_name': 'gpt-3.5-turbo', 'system_fingerprint': None, 'token_usage': {'completion_tokens': 22, 'completion_tokens_details': {'accepted_prediction_tokens': 0, 'audio_tokens': 0, 'reasoning_tokens': 0, 'rejected_prediction_tokens': 0}, 'prompt_tokens': 152, 'prompt_tokens_details': {'audio_tokens': 0, 'cached_tokens': 0}, 'total_tokens': 174}}, id='run-c366194f-6dda-4e5d-9ae2-8859a67a7729-0', tool_calls=[{'name': 'tavily_search_results_json', 'args': {'query': 'current weather in LA, accuweather'}, 'id': 'call_plzQk8J6lyj0f2b8KPabtE5R'}])]}\n"
     ]
    }
   ],
   "source": [
    "branch_state = abot.graph.update_state(to_replay.config, to_replay.values)\n"
   ]
  },
  {
   "cell_type": "code",
   "execution_count": 79,
   "id": "570c6245-2837-4ac5-983b-95f61f3ac10d",
   "metadata": {
    "height": 81
   },
   "outputs": [
    {
     "name": "stdout",
     "output_type": "stream",
     "text": [
      "Calling: {'name': 'tavily_search_results_json', 'args': {'query': 'current weather in LA, accuweather'}, 'id': 'call_plzQk8J6lyj0f2b8KPabtE5R'}\n",
      "Back to the model!\n",
      "{'messages': [ToolMessage(content=\"[{'url': 'https://ktla.com/news/local-news/southern-california-residents-left-with-destruction-after-powerful-storms-winds/', 'content': 'Maps, Radar and Other Data KTLA Video Southern California officers watch streets for DUI\\\\xa0… 3 hurt in Lancaster liquor store shooting The Pike Outlets in Long Beach shut down after fight\\\\xa0… Long Beach Police break up fight amongst youth at\\\\xa0… Southern California residents left with destruction\\\\xa0… 13-year-old L.A. student preparing for her first\\\\xa0… Final preparations underway for the 39th L.A. Marathon Dodgers’ minor league team’s new name is a naughty\\\\xa0… Preparations for Sunday’s L.A. Marathon well underway Man carjacked Mercedes-Benz at knifepoint, led officers\\\\xa0… Family-friendly L.A. Big 5K underway ahead of L.A.\\\\xa0… Police continue search for Santa Monica sexual assault\\\\xa0… More from KTLA Teen with autism disappears in L.A. County Pike Outlets in Long Beach closed following large\\\\xa0… A suspected attack by Yemen’s Houthi rebels has targeted\\\\xa0… India’s Bengaluru is fast running out of water, and\\\\xa0… Trump campaigns for GOP Senate candidate Bernie Moreno\\\\xa0… 13-year-old prepares for her first L.A. Marathon RNC files lawsuit against MI Secretary over voter\\\\xa0… Authorities are seeking a suspect now identified\\\\xa0… Most Popular Pike Outlets in Long Beach closed following large\\\\xa0… Dodgers’ minor league team chooses controversial\\\\xa0… SoCal $1.7 billion Powerball winner identified These streets will be closed for the L.A. Marathon How Starbucks is changing the way it serves coffee Teen with autism disappears in L.A. County Man arrested after telling business he’ll ‘shoot’\\\\xa0… BestReviews.com - Top picks to make everyone happy Amazon’s Big Spring Sale: best deals under $100 Amazon just announced the ‘Big Spring Sale’ – the\\\\xa0… These Easter games for families are sure to keep\\\\xa0… Gifts and goodies every kid will want in their Easter\\\\xa0… 22 Easter decoration ideas for your home, yard and\\\\xa0… Five Below is already stocking tons of Easter goodies Get News App Get Weather App Stay Top Stories Putin poised to rule Russia for 6 more years after\\\\xa0… ‘There’s no agenda here’: A look at the judge who\\\\xa0… Long recovery ahead for some in path of deadly tornadoes\\\\xa0… It’s March Madness and more people than ever can\\\\xa0… Biden says at DC roast that of 2 presidential candidates,\\\\xa0… More Stories Elderly woman among 3 injured in liquor store shooting Putin poised to rule Russia for 6 more years after\\\\xa0… ‘There’s no agenda here’: A look at the judge who\\\\xa0… Long recovery ahead for some in path of deadly tornadoes\\\\xa0… It’s March Madness and more people than ever can\\\\xa0… Biden says at DC roast that of 2 presidential candidates,\\\\xa0… Teen with autism disappears in L.A. County Pike Outlets in Long Beach closed following large\\\\xa0… Use the controls or your thumb to move the map, zoom, and add layers for satellite imagery, temperatures, and precipitation. Primary Menu Top Stories Top Stories Top Stories Top Stories Please enter a search term.  Mar 16, 2024 / 06:51 PM PDT The widespread destruction brought by wild weather across Southern California this week has left many residents displaced and picking up the pieces.  Later in the week, a sudden, quick-moving thunderstorm activated warnings across the Southland, bringing a hailstorm, dangerous lightning and even threats of a tornado in some areas. '}, {'url': 'https://www.elkvalleytimes.com/news/national/s-korean-prosecutors-say-yoon-authorised-shooting-during-martial-law-bid/article_90f2d74c-b770-5866-a65a-c09b46c4bcfe.html', 'content': 'Considerable cloudiness. Low 48F. Winds SW at 5 to 10 mph..\\\\r\\\\n                                \\\\nConsiderable cloudiness. Low 48F. Winds SW at 5 to 10 mph.\\\\n Updated: December 29, 2024 @ 9:02 pm\\\\n\\\\n\\\\n       '}]\", name='tavily_search_results_json', id='295937c7-4177-45fc-8d04-19a0cf1264f0', tool_call_id='call_plzQk8J6lyj0f2b8KPabtE5R')]}\n",
      "{'messages': [HumanMessage(content='Whats the weather in LA?', id='1d24dc08-1568-419d-8de3-b01fd0b49eb8'), AIMessage(content='', additional_kwargs={'tool_calls': [{'function': {'arguments': '{\"query\":\"weather in Los Angeles\"}', 'name': 'tavily_search_results_json'}, 'id': 'call_plzQk8J6lyj0f2b8KPabtE5R', 'type': 'function'}]}, response_metadata={'finish_reason': 'tool_calls', 'logprobs': None, 'model_name': 'gpt-3.5-turbo', 'system_fingerprint': None, 'token_usage': {'completion_tokens': 22, 'completion_tokens_details': {'accepted_prediction_tokens': 0, 'audio_tokens': 0, 'reasoning_tokens': 0, 'rejected_prediction_tokens': 0}, 'prompt_tokens': 152, 'prompt_tokens_details': {'audio_tokens': 0, 'cached_tokens': 0}, 'total_tokens': 174}}, id='run-c366194f-6dda-4e5d-9ae2-8859a67a7729-0', tool_calls=[{'name': 'tavily_search_results_json', 'args': {'query': 'current weather in LA, accuweather'}, 'id': 'call_plzQk8J6lyj0f2b8KPabtE5R'}]), ToolMessage(content=\"[{'url': 'https://ktla.com/news/local-news/southern-california-residents-left-with-destruction-after-powerful-storms-winds/', 'content': 'Maps, Radar and Other Data KTLA Video Southern California officers watch streets for DUI\\\\xa0… 3 hurt in Lancaster liquor store shooting The Pike Outlets in Long Beach shut down after fight\\\\xa0… Long Beach Police break up fight amongst youth at\\\\xa0… Southern California residents left with destruction\\\\xa0… 13-year-old L.A. student preparing for her first\\\\xa0… Final preparations underway for the 39th L.A. Marathon Dodgers’ minor league team’s new name is a naughty\\\\xa0… Preparations for Sunday’s L.A. Marathon well underway Man carjacked Mercedes-Benz at knifepoint, led officers\\\\xa0… Family-friendly L.A. Big 5K underway ahead of L.A.\\\\xa0… Police continue search for Santa Monica sexual assault\\\\xa0… More from KTLA Teen with autism disappears in L.A. County Pike Outlets in Long Beach closed following large\\\\xa0… A suspected attack by Yemen’s Houthi rebels has targeted\\\\xa0… India’s Bengaluru is fast running out of water, and\\\\xa0… Trump campaigns for GOP Senate candidate Bernie Moreno\\\\xa0… 13-year-old prepares for her first L.A. Marathon RNC files lawsuit against MI Secretary over voter\\\\xa0… Authorities are seeking a suspect now identified\\\\xa0… Most Popular Pike Outlets in Long Beach closed following large\\\\xa0… Dodgers’ minor league team chooses controversial\\\\xa0… SoCal $1.7 billion Powerball winner identified These streets will be closed for the L.A. Marathon How Starbucks is changing the way it serves coffee Teen with autism disappears in L.A. County Man arrested after telling business he’ll ‘shoot’\\\\xa0… BestReviews.com - Top picks to make everyone happy Amazon’s Big Spring Sale: best deals under $100 Amazon just announced the ‘Big Spring Sale’ – the\\\\xa0… These Easter games for families are sure to keep\\\\xa0… Gifts and goodies every kid will want in their Easter\\\\xa0… 22 Easter decoration ideas for your home, yard and\\\\xa0… Five Below is already stocking tons of Easter goodies Get News App Get Weather App Stay Top Stories Putin poised to rule Russia for 6 more years after\\\\xa0… ‘There’s no agenda here’: A look at the judge who\\\\xa0… Long recovery ahead for some in path of deadly tornadoes\\\\xa0… It’s March Madness and more people than ever can\\\\xa0… Biden says at DC roast that of 2 presidential candidates,\\\\xa0… More Stories Elderly woman among 3 injured in liquor store shooting Putin poised to rule Russia for 6 more years after\\\\xa0… ‘There’s no agenda here’: A look at the judge who\\\\xa0… Long recovery ahead for some in path of deadly tornadoes\\\\xa0… It’s March Madness and more people than ever can\\\\xa0… Biden says at DC roast that of 2 presidential candidates,\\\\xa0… Teen with autism disappears in L.A. County Pike Outlets in Long Beach closed following large\\\\xa0… Use the controls or your thumb to move the map, zoom, and add layers for satellite imagery, temperatures, and precipitation. Primary Menu Top Stories Top Stories Top Stories Top Stories Please enter a search term.  Mar 16, 2024 / 06:51 PM PDT The widespread destruction brought by wild weather across Southern California this week has left many residents displaced and picking up the pieces.  Later in the week, a sudden, quick-moving thunderstorm activated warnings across the Southland, bringing a hailstorm, dangerous lightning and even threats of a tornado in some areas. '}, {'url': 'https://www.elkvalleytimes.com/news/national/s-korean-prosecutors-say-yoon-authorised-shooting-during-martial-law-bid/article_90f2d74c-b770-5866-a65a-c09b46c4bcfe.html', 'content': 'Considerable cloudiness. Low 48F. Winds SW at 5 to 10 mph..\\\\r\\\\n                                \\\\nConsiderable cloudiness. Low 48F. Winds SW at 5 to 10 mph.\\\\n Updated: December 29, 2024 @ 9:02 pm\\\\n\\\\n\\\\n       '}]\", name='tavily_search_results_json', id='295937c7-4177-45fc-8d04-19a0cf1264f0', tool_call_id='call_plzQk8J6lyj0f2b8KPabtE5R'), AIMessage(content=\"I couldn't find the current weather in LA with the search results. Let me try a different approach to get the weather for you.\", additional_kwargs={'tool_calls': [{'id': 'call_DNuA8GlUFeQuj1pbz1mxcKq9', 'function': {'arguments': '{\"query\":\"current weather in Los Angeles\"}', 'name': 'tavily_search_results_json'}, 'type': 'function'}]}, response_metadata={'token_usage': {'completion_tokens': 52, 'prompt_tokens': 1089, 'total_tokens': 1141, 'prompt_tokens_details': {'cached_tokens': 0, 'audio_tokens': 0}, 'completion_tokens_details': {'reasoning_tokens': 0, 'audio_tokens': 0, 'accepted_prediction_tokens': 0, 'rejected_prediction_tokens': 0}}, 'model_name': 'gpt-3.5-turbo', 'system_fingerprint': None, 'finish_reason': 'tool_calls', 'logprobs': None}, id='run-130af7db-8468-48ff-b00e-6f64c6b98bf3-0', tool_calls=[{'name': 'tavily_search_results_json', 'args': {'query': 'current weather in Los Angeles'}, 'id': 'call_DNuA8GlUFeQuj1pbz1mxcKq9'}])]}\n",
      "{'messages': [AIMessage(content=\"I couldn't find the current weather in LA with the search results. Let me try a different approach to get the weather for you.\", additional_kwargs={'tool_calls': [{'id': 'call_DNuA8GlUFeQuj1pbz1mxcKq9', 'function': {'arguments': '{\"query\":\"current weather in Los Angeles\"}', 'name': 'tavily_search_results_json'}, 'type': 'function'}]}, response_metadata={'token_usage': {'completion_tokens': 52, 'prompt_tokens': 1089, 'total_tokens': 1141, 'prompt_tokens_details': {'cached_tokens': 0, 'audio_tokens': 0}, 'completion_tokens_details': {'reasoning_tokens': 0, 'audio_tokens': 0, 'accepted_prediction_tokens': 0, 'rejected_prediction_tokens': 0}}, 'model_name': 'gpt-3.5-turbo', 'system_fingerprint': None, 'finish_reason': 'tool_calls', 'logprobs': None}, id='run-130af7db-8468-48ff-b00e-6f64c6b98bf3-0', tool_calls=[{'name': 'tavily_search_results_json', 'args': {'query': 'current weather in Los Angeles'}, 'id': 'call_DNuA8GlUFeQuj1pbz1mxcKq9'}])]}\n"
     ]
    }
   ],
   "source": [
    "for event in abot.graph.stream(None, branch_state):\n",
    "    for k, v in event.items():\n",
    "        if k != \"__end__\":\n",
    "            print(v)\n"
   ]
  },
  {
   "cell_type": "markdown",
   "id": "f1016ce7-368d-4922-9044-fcdfd47c273b",
   "metadata": {},
   "source": [
    "## Add message to a state at a given time"
   ]
  },
  {
   "cell_type": "code",
   "execution_count": 80,
   "id": "6b910915-b087-4d35-afff-0ec30a5852f1",
   "metadata": {
    "height": 30
   },
   "outputs": [
    {
     "data": {
      "text/plain": [
       "StateSnapshot(values={'messages': [HumanMessage(content='Whats the weather in LA?', id='1d24dc08-1568-419d-8de3-b01fd0b49eb8'), AIMessage(content='', additional_kwargs={'tool_calls': [{'function': {'arguments': '{\"query\":\"weather in Los Angeles\"}', 'name': 'tavily_search_results_json'}, 'id': 'call_plzQk8J6lyj0f2b8KPabtE5R', 'type': 'function'}]}, response_metadata={'finish_reason': 'tool_calls', 'logprobs': None, 'model_name': 'gpt-3.5-turbo', 'system_fingerprint': None, 'token_usage': {'completion_tokens': 22, 'completion_tokens_details': {'accepted_prediction_tokens': 0, 'audio_tokens': 0, 'reasoning_tokens': 0, 'rejected_prediction_tokens': 0}, 'prompt_tokens': 152, 'prompt_tokens_details': {'audio_tokens': 0, 'cached_tokens': 0}, 'total_tokens': 174}}, id='run-c366194f-6dda-4e5d-9ae2-8859a67a7729-0', tool_calls=[{'name': 'tavily_search_results_json', 'args': {'query': 'current weather in LA, accuweather'}, 'id': 'call_plzQk8J6lyj0f2b8KPabtE5R'}])]}, next=('action',), config={'configurable': {'thread_id': '3', 'thread_ts': '1efc96d2-1ce7-6248-8001-50b61374714b'}}, metadata={'source': 'loop', 'step': 1, 'writes': {'llm': {'messages': [AIMessage(content='', additional_kwargs={'tool_calls': [{'function': {'arguments': '{\"query\":\"weather in Los Angeles\"}', 'name': 'tavily_search_results_json'}, 'id': 'call_plzQk8J6lyj0f2b8KPabtE5R', 'type': 'function'}]}, response_metadata={'finish_reason': 'tool_calls', 'logprobs': None, 'model_name': 'gpt-3.5-turbo', 'system_fingerprint': None, 'token_usage': {'completion_tokens': 22, 'completion_tokens_details': {'accepted_prediction_tokens': 0, 'audio_tokens': 0, 'reasoning_tokens': 0, 'rejected_prediction_tokens': 0}, 'prompt_tokens': 152, 'prompt_tokens_details': {'audio_tokens': 0, 'cached_tokens': 0}, 'total_tokens': 174}}, id='run-c366194f-6dda-4e5d-9ae2-8859a67a7729-0', tool_calls=[{'name': 'tavily_search_results_json', 'args': {'query': 'weather in Los Angeles'}, 'id': 'call_plzQk8J6lyj0f2b8KPabtE5R'}])]}}}, created_at='2025-01-03T00:53:22.757058+00:00', parent_config={'configurable': {'thread_id': '3', 'thread_ts': '1efc96d2-1807-6ac0-8000-5bf36a454196'}})"
      ]
     },
     "execution_count": 80,
     "metadata": {},
     "output_type": "execute_result"
    }
   ],
   "source": [
    "to_replay\n"
   ]
  },
  {
   "cell_type": "code",
   "execution_count": 81,
   "id": "c4feb6cc-5129-4a99-bb45-851bc07b5709",
   "metadata": {
    "height": 30
   },
   "outputs": [],
   "source": [
    "_id = to_replay.values['messages'][-1].tool_calls[0]['id']\n"
   ]
  },
  {
   "cell_type": "code",
   "execution_count": 82,
   "id": "e85a02b4-96cc-4b01-8792-397a774eb499",
   "metadata": {
    "height": 98
   },
   "outputs": [],
   "source": [
    "state_update = {\"messages\": [ToolMessage(\n",
    "    tool_call_id=_id,\n",
    "    name=\"tavily_search_results_json\",\n",
    "    content=\"54 degree celcius\",\n",
    ")]}\n"
   ]
  },
  {
   "cell_type": "code",
   "execution_count": 83,
   "id": "ae8b86a6-5e20-4252-b1d8-009b8318345a",
   "metadata": {
    "height": 81
   },
   "outputs": [],
   "source": [
    "branch_and_add = abot.graph.update_state(\n",
    "    to_replay.config, \n",
    "    state_update, \n",
    "    as_node=\"action\")\n"
   ]
  },
  {
   "cell_type": "code",
   "execution_count": 84,
   "id": "af925917-b746-48c9-ac74-62fefbe5246c",
   "metadata": {
    "height": 64
   },
   "outputs": [
    {
     "name": "stdout",
     "output_type": "stream",
     "text": [
      "{'messages': [HumanMessage(content='Whats the weather in LA?', id='1d24dc08-1568-419d-8de3-b01fd0b49eb8'), AIMessage(content='', additional_kwargs={'tool_calls': [{'function': {'arguments': '{\"query\":\"weather in Los Angeles\"}', 'name': 'tavily_search_results_json'}, 'id': 'call_plzQk8J6lyj0f2b8KPabtE5R', 'type': 'function'}]}, response_metadata={'finish_reason': 'tool_calls', 'logprobs': None, 'model_name': 'gpt-3.5-turbo', 'system_fingerprint': None, 'token_usage': {'completion_tokens': 22, 'completion_tokens_details': {'accepted_prediction_tokens': 0, 'audio_tokens': 0, 'reasoning_tokens': 0, 'rejected_prediction_tokens': 0}, 'prompt_tokens': 152, 'prompt_tokens_details': {'audio_tokens': 0, 'cached_tokens': 0}, 'total_tokens': 174}}, id='run-c366194f-6dda-4e5d-9ae2-8859a67a7729-0', tool_calls=[{'name': 'tavily_search_results_json', 'args': {'query': 'weather in Los Angeles'}, 'id': 'call_plzQk8J6lyj0f2b8KPabtE5R'}]), ToolMessage(content='54 degree celcius', name='tavily_search_results_json', id='3d097507-515a-440c-a259-72ffa30cf653', tool_call_id='call_plzQk8J6lyj0f2b8KPabtE5R'), AIMessage(content='The weather in Los Angeles is 54 degrees Celsius.', response_metadata={'token_usage': {'completion_tokens': 13, 'prompt_tokens': 190, 'total_tokens': 203, 'prompt_tokens_details': {'cached_tokens': 0, 'audio_tokens': 0}, 'completion_tokens_details': {'reasoning_tokens': 0, 'audio_tokens': 0, 'accepted_prediction_tokens': 0, 'rejected_prediction_tokens': 0}}, 'model_name': 'gpt-3.5-turbo', 'system_fingerprint': None, 'finish_reason': 'stop', 'logprobs': None}, id='run-86f12569-2697-40ca-afc6-4fe48cc3eb44-0')]}\n",
      "{'messages': [AIMessage(content='The weather in Los Angeles is 54 degrees Celsius.', response_metadata={'token_usage': {'completion_tokens': 13, 'prompt_tokens': 190, 'total_tokens': 203, 'prompt_tokens_details': {'cached_tokens': 0, 'audio_tokens': 0}, 'completion_tokens_details': {'reasoning_tokens': 0, 'audio_tokens': 0, 'accepted_prediction_tokens': 0, 'rejected_prediction_tokens': 0}}, 'model_name': 'gpt-3.5-turbo', 'system_fingerprint': None, 'finish_reason': 'stop', 'logprobs': None}, id='run-86f12569-2697-40ca-afc6-4fe48cc3eb44-0')]}\n"
     ]
    }
   ],
   "source": [
    "for event in abot.graph.stream(None, branch_and_add):\n",
    "    for k, v in event.items():\n",
    "        print(v)\n"
   ]
  },
  {
   "cell_type": "markdown",
   "id": "a6b1de51-f1dd-4719-89e6-01c21d2b304e",
   "metadata": {},
   "source": [
    "# Extra Practice"
   ]
  },
  {
   "cell_type": "markdown",
   "id": "31e06033-59fd-4d6b-8891-fb8bc2d7a037",
   "metadata": {},
   "source": [
    "## Build a small graph\n",
    "This is a small simple graph you can tinker with if you want more insight into controlling state memory."
   ]
  },
  {
   "cell_type": "code",
   "execution_count": 85,
   "id": "7614683e-1c13-4518-b464-263fb91be761",
   "metadata": {
    "height": 64
   },
   "outputs": [],
   "source": [
    "from dotenv import load_dotenv\n",
    "\n",
    "_ = load_dotenv()\n"
   ]
  },
  {
   "cell_type": "code",
   "execution_count": 86,
   "id": "efbef86a-75fe-416f-99ab-70b181d934dc",
   "metadata": {
    "height": 81
   },
   "outputs": [],
   "source": [
    "from langgraph.graph import StateGraph, END\n",
    "from typing import TypedDict, Annotated\n",
    "import operator\n",
    "from langgraph.checkpoint.sqlite import SqliteSaver\n"
   ]
  },
  {
   "cell_type": "markdown",
   "id": "67c972f7-5a14-49da-9d82-37105a6637ed",
   "metadata": {},
   "source": [
    "Define a simple 2 node graph with the following state:\n",
    "-`lnode`: last node\n",
    "-`scratch`: a scratchpad location\n",
    "-`count` : a counter that is incremented each step"
   ]
  },
  {
   "cell_type": "code",
   "execution_count": 87,
   "id": "b846f637-5e98-4a7d-9ca0-5144302b7cef",
   "metadata": {
    "height": 81
   },
   "outputs": [],
   "source": [
    "class AgentState(TypedDict):\n",
    "    lnode: str\n",
    "    scratch: str\n",
    "    count: Annotated[int, operator.add]\n"
   ]
  },
  {
   "cell_type": "code",
   "execution_count": 88,
   "id": "b8bb1c6d-41b7-4f5b-807b-ecbdec82d8d6",
   "metadata": {
    "height": 183
   },
   "outputs": [],
   "source": [
    "def node1(state: AgentState):\n",
    "    print(f\"node1, count:{state['count']}\")\n",
    "    return {\"lnode\": \"node_1\",\n",
    "            \"count\": 1,\n",
    "           }\n",
    "def node2(state: AgentState):\n",
    "    print(f\"node2, count:{state['count']}\")\n",
    "    return {\"lnode\": \"node_2\",\n",
    "            \"count\": 1,\n",
    "           }\n"
   ]
  },
  {
   "cell_type": "markdown",
   "id": "6adc403b-10d2-4a6c-bd21-c84bb8e0c8fc",
   "metadata": {},
   "source": [
    "The graph goes N1->N2->N1... but breaks after count reaches 3."
   ]
  },
  {
   "cell_type": "code",
   "execution_count": 89,
   "id": "b2c6d249-4793-41c5-8e80-40f1eedc4baf",
   "metadata": {
    "height": 47
   },
   "outputs": [],
   "source": [
    "def should_continue(state):\n",
    "    return state[\"count\"] < 3\n"
   ]
  },
  {
   "cell_type": "code",
   "execution_count": 90,
   "id": "4e3721d9-4508-48fa-9be0-93af20144072",
   "metadata": {
    "height": 166
   },
   "outputs": [],
   "source": [
    "builder = StateGraph(AgentState)\n",
    "builder.add_node(\"Node1\", node1)\n",
    "builder.add_node(\"Node2\", node2)\n",
    "\n",
    "builder.add_edge(\"Node1\", \"Node2\")\n",
    "builder.add_conditional_edges(\"Node2\", \n",
    "                              should_continue, \n",
    "                              {True: \"Node1\", False: END})\n",
    "builder.set_entry_point(\"Node1\")\n"
   ]
  },
  {
   "cell_type": "code",
   "execution_count": 91,
   "id": "8d35d70c-daeb-49c1-9b7c-90cc2a7ca142",
   "metadata": {
    "height": 47
   },
   "outputs": [],
   "source": [
    "memory = SqliteSaver.from_conn_string(\":memory:\")\n",
    "graph = builder.compile(checkpointer=memory)\n"
   ]
  },
  {
   "cell_type": "markdown",
   "id": "c57051f5-f7fb-4be5-a2f5-21cb1aa4fecb",
   "metadata": {},
   "source": [
    "### Run it!\n",
    "Now, set the thread and run!"
   ]
  },
  {
   "cell_type": "code",
   "execution_count": 92,
   "id": "edba3a1a-84a7-45eb-a6ee-74a612b68d54",
   "metadata": {
    "height": 47
   },
   "outputs": [
    {
     "name": "stdout",
     "output_type": "stream",
     "text": [
      "node1, count:0\n",
      "node2, count:1\n",
      "node1, count:2\n",
      "node2, count:3\n"
     ]
    },
    {
     "data": {
      "text/plain": [
       "{'lnode': 'node_2', 'scratch': 'hi', 'count': 4}"
      ]
     },
     "execution_count": 92,
     "metadata": {},
     "output_type": "execute_result"
    }
   ],
   "source": [
    "thread = {\"configurable\": {\"thread_id\": str(1)}}\n",
    "graph.invoke({\"count\":0, \"scratch\":\"hi\"},thread)\n"
   ]
  },
  {
   "cell_type": "markdown",
   "id": "2ce7b035-bfdb-4642-8750-47d188277423",
   "metadata": {},
   "source": [
    "### Look at current state"
   ]
  },
  {
   "cell_type": "markdown",
   "id": "43324904-a6f4-4299-86de-e0218e4cb225",
   "metadata": {},
   "source": [
    "Get the current state. Note the `values` which are the AgentState. Note the `config` and the `thread_ts`. You will be using those to refer to snapshots below."
   ]
  },
  {
   "cell_type": "code",
   "execution_count": 93,
   "id": "f2513b41-31b2-46e6-84f6-0c519f697973",
   "metadata": {
    "height": 30
   },
   "outputs": [
    {
     "data": {
      "text/plain": [
       "StateSnapshot(values={'lnode': 'node_2', 'scratch': 'hi', 'count': 4}, next=(), config={'configurable': {'thread_id': '1', 'thread_ts': '1efc96d5-8acf-6546-8004-beafe34e8df9'}}, metadata={'source': 'loop', 'step': 4, 'writes': {'Node2': {'count': 1, 'lnode': 'node_2'}}}, created_at='2025-01-03T00:54:54.812283+00:00', parent_config={'configurable': {'thread_id': '1', 'thread_ts': '1efc96d5-8aca-63d4-8003-d522ff7a13d7'}})"
      ]
     },
     "execution_count": 93,
     "metadata": {},
     "output_type": "execute_result"
    }
   ],
   "source": [
    "graph.get_state(thread)\n"
   ]
  },
  {
   "cell_type": "markdown",
   "id": "7f7be4ae-24f0-4362-bd99-55ad38fe0112",
   "metadata": {},
   "source": [
    "View all the statesnapshots in memory. You can use the displayed `count` agentstate variable to help track what you see. Notice the most recent snapshots are returned by the iterator first. Also note that there is a handy `step` variable in the metadata that counts the number of steps in the graph execution. This is a bit detailed - but you can also notice that the *parent_config* is the *config* of the previous node. At initial startup, additional states are inserted into memory to create a parent. This is something to check when you branch or *time travel* below."
   ]
  },
  {
   "cell_type": "markdown",
   "id": "18647be0-c7c6-4ec5-9454-54a034fcd053",
   "metadata": {},
   "source": [
    "### Look at state history"
   ]
  },
  {
   "cell_type": "code",
   "execution_count": 94,
   "id": "686fa197-c97f-4ae6-82d2-938bbe5542c1",
   "metadata": {
    "height": 47
   },
   "outputs": [
    {
     "name": "stdout",
     "output_type": "stream",
     "text": [
      "StateSnapshot(values={'lnode': 'node_2', 'scratch': 'hi', 'count': 4}, next=(), config={'configurable': {'thread_id': '1', 'thread_ts': '1efc96d5-8acf-6546-8004-beafe34e8df9'}}, metadata={'source': 'loop', 'step': 4, 'writes': {'Node2': {'count': 1, 'lnode': 'node_2'}}}, created_at='2025-01-03T00:54:54.812283+00:00', parent_config={'configurable': {'thread_id': '1', 'thread_ts': '1efc96d5-8aca-63d4-8003-d522ff7a13d7'}}) \n",
      "\n",
      "StateSnapshot(values={'lnode': 'node_1', 'scratch': 'hi', 'count': 3}, next=('Node2',), config={'configurable': {'thread_id': '1', 'thread_ts': '1efc96d5-8aca-63d4-8003-d522ff7a13d7'}}, metadata={'source': 'loop', 'step': 3, 'writes': {'Node1': {'count': 1, 'lnode': 'node_1'}}}, created_at='2025-01-03T00:54:54.810195+00:00', parent_config={'configurable': {'thread_id': '1', 'thread_ts': '1efc96d5-8ac6-67a2-8002-e19633989779'}}) \n",
      "\n",
      "StateSnapshot(values={'lnode': 'node_2', 'scratch': 'hi', 'count': 2}, next=('Node1',), config={'configurable': {'thread_id': '1', 'thread_ts': '1efc96d5-8ac6-67a2-8002-e19633989779'}}, metadata={'source': 'loop', 'step': 2, 'writes': {'Node2': {'count': 1, 'lnode': 'node_2'}}}, created_at='2025-01-03T00:54:54.808657+00:00', parent_config={'configurable': {'thread_id': '1', 'thread_ts': '1efc96d5-8ac2-6026-8001-39826de205a4'}}) \n",
      "\n",
      "StateSnapshot(values={'lnode': 'node_1', 'scratch': 'hi', 'count': 1}, next=('Node2',), config={'configurable': {'thread_id': '1', 'thread_ts': '1efc96d5-8ac2-6026-8001-39826de205a4'}}, metadata={'source': 'loop', 'step': 1, 'writes': {'Node1': {'count': 1, 'lnode': 'node_1'}}}, created_at='2025-01-03T00:54:54.806820+00:00', parent_config={'configurable': {'thread_id': '1', 'thread_ts': '1efc96d5-8abc-6cf2-8000-2947585d17f7'}}) \n",
      "\n",
      "StateSnapshot(values={'scratch': 'hi', 'count': 0}, next=('Node1',), config={'configurable': {'thread_id': '1', 'thread_ts': '1efc96d5-8abc-6cf2-8000-2947585d17f7'}}, metadata={'source': 'loop', 'step': 0, 'writes': None}, created_at='2025-01-03T00:54:54.804683+00:00', parent_config={'configurable': {'thread_id': '1', 'thread_ts': '1efc96d5-8ab8-6bc0-bfff-5435ddb54e19'}}) \n",
      "\n",
      "StateSnapshot(values={'count': 0}, next=('__start__',), config={'configurable': {'thread_id': '1', 'thread_ts': '1efc96d5-8ab8-6bc0-bfff-5435ddb54e19'}}, metadata={'source': 'input', 'step': -1, 'writes': {'count': 0, 'scratch': 'hi'}}, created_at='2025-01-03T00:54:54.803023+00:00', parent_config=None) \n",
      "\n"
     ]
    }
   ],
   "source": [
    "for state in graph.get_state_history(thread):\n",
    "    print(state, \"\\n\")\n"
   ]
  },
  {
   "cell_type": "markdown",
   "id": "dd7850ff-0748-43d7-8956-074fa9fd819f",
   "metadata": {},
   "source": [
    "Store just the `config` into an list. Note the sequence of counts on the right. `get_state_history` returns the most recent snapshots first."
   ]
  },
  {
   "cell_type": "code",
   "execution_count": 95,
   "id": "9f68e604-4f53-46c0-8f06-e7726ec9dcf6",
   "metadata": {
    "height": 81
   },
   "outputs": [
    {
     "name": "stdout",
     "output_type": "stream",
     "text": [
      "{'configurable': {'thread_id': '1', 'thread_ts': '1efc96d5-8acf-6546-8004-beafe34e8df9'}} 4\n",
      "{'configurable': {'thread_id': '1', 'thread_ts': '1efc96d5-8aca-63d4-8003-d522ff7a13d7'}} 3\n",
      "{'configurable': {'thread_id': '1', 'thread_ts': '1efc96d5-8ac6-67a2-8002-e19633989779'}} 2\n",
      "{'configurable': {'thread_id': '1', 'thread_ts': '1efc96d5-8ac2-6026-8001-39826de205a4'}} 1\n",
      "{'configurable': {'thread_id': '1', 'thread_ts': '1efc96d5-8abc-6cf2-8000-2947585d17f7'}} 0\n",
      "{'configurable': {'thread_id': '1', 'thread_ts': '1efc96d5-8ab8-6bc0-bfff-5435ddb54e19'}} 0\n"
     ]
    }
   ],
   "source": [
    "states = []\n",
    "for state in graph.get_state_history(thread):\n",
    "    states.append(state.config)\n",
    "    print(state.config, state.values['count'])\n"
   ]
  },
  {
   "cell_type": "markdown",
   "id": "90790095-4080-4e76-b538-47caac7d9699",
   "metadata": {},
   "source": [
    "Grab an early state."
   ]
  },
  {
   "cell_type": "code",
   "execution_count": 96,
   "id": "e1db574e-f158-44cf-b921-f1f4466c314d",
   "metadata": {
    "height": 30
   },
   "outputs": [
    {
     "data": {
      "text/plain": [
       "{'configurable': {'thread_id': '1',\n",
       "  'thread_ts': '1efc96d5-8ac2-6026-8001-39826de205a4'}}"
      ]
     },
     "execution_count": 96,
     "metadata": {},
     "output_type": "execute_result"
    }
   ],
   "source": [
    "states[-3]\n"
   ]
  },
  {
   "cell_type": "markdown",
   "id": "2cc233eb-f388-4ecd-bfb5-dac3568d37ce",
   "metadata": {},
   "source": [
    "This is the state after Node1 completed for the first time. Note `next` is `Node2`and `count` is 1."
   ]
  },
  {
   "cell_type": "code",
   "execution_count": 97,
   "id": "240f5039-7916-4c2a-88d5-d363b2898e70",
   "metadata": {
    "height": 30
   },
   "outputs": [
    {
     "data": {
      "text/plain": [
       "StateSnapshot(values={'lnode': 'node_1', 'scratch': 'hi', 'count': 1}, next=('Node2',), config={'configurable': {'thread_id': '1', 'thread_ts': '1efc96d5-8ac2-6026-8001-39826de205a4'}}, metadata={'source': 'loop', 'step': 1, 'writes': {'Node1': {'count': 1, 'lnode': 'node_1'}}}, created_at='2025-01-03T00:54:54.806820+00:00', parent_config={'configurable': {'thread_id': '1', 'thread_ts': '1efc96d5-8abc-6cf2-8000-2947585d17f7'}})"
      ]
     },
     "execution_count": 97,
     "metadata": {},
     "output_type": "execute_result"
    }
   ],
   "source": [
    "graph.get_state(states[-3])\n"
   ]
  },
  {
   "cell_type": "markdown",
   "id": "4872468e-4d23-4840-ae14-c06c1ab4f161",
   "metadata": {},
   "source": [
    "### Go Back in Time\n",
    "Use that state in `invoke` to go back in time. Notice it uses states[-3] as *current_state* and continues to node2,"
   ]
  },
  {
   "cell_type": "code",
   "execution_count": 98,
   "id": "e3049179-b901-4557-a9c4-78afb3d53d27",
   "metadata": {
    "height": 30
   },
   "outputs": [
    {
     "name": "stdout",
     "output_type": "stream",
     "text": [
      "node2, count:1\n",
      "node1, count:2\n",
      "node2, count:3\n"
     ]
    },
    {
     "data": {
      "text/plain": [
       "{'lnode': 'node_2', 'scratch': 'hi', 'count': 4}"
      ]
     },
     "execution_count": 98,
     "metadata": {},
     "output_type": "execute_result"
    }
   ],
   "source": [
    "graph.invoke(None, states[-3])\n"
   ]
  },
  {
   "cell_type": "markdown",
   "id": "5bf7789a-df3d-4c7e-8899-d96a99d45717",
   "metadata": {},
   "source": [
    "Notice the new states are now in state history. Notice the counts on the far right."
   ]
  },
  {
   "cell_type": "code",
   "execution_count": 99,
   "id": "37fa44ec-9bd1-484b-a415-cc5f50b6e799",
   "metadata": {
    "height": 64
   },
   "outputs": [
    {
     "name": "stdout",
     "output_type": "stream",
     "text": [
      "{'configurable': {'thread_id': '1', 'thread_ts': '1efc96e7-3a0c-6eb2-8004-aecdea6f707d'}} 4\n",
      "{'configurable': {'thread_id': '1', 'thread_ts': '1efc96e7-3a09-68b6-8003-63ca30b91a67'}} 3\n",
      "{'configurable': {'thread_id': '1', 'thread_ts': '1efc96e7-3a04-60a0-8002-7185f30bc6c5'}} 2\n",
      "{'configurable': {'thread_id': '1', 'thread_ts': '1efc96d5-8acf-6546-8004-beafe34e8df9'}} 4\n",
      "{'configurable': {'thread_id': '1', 'thread_ts': '1efc96d5-8aca-63d4-8003-d522ff7a13d7'}} 3\n",
      "{'configurable': {'thread_id': '1', 'thread_ts': '1efc96d5-8ac6-67a2-8002-e19633989779'}} 2\n",
      "{'configurable': {'thread_id': '1', 'thread_ts': '1efc96d5-8ac2-6026-8001-39826de205a4'}} 1\n",
      "{'configurable': {'thread_id': '1', 'thread_ts': '1efc96d5-8abc-6cf2-8000-2947585d17f7'}} 0\n",
      "{'configurable': {'thread_id': '1', 'thread_ts': '1efc96d5-8ab8-6bc0-bfff-5435ddb54e19'}} 0\n"
     ]
    }
   ],
   "source": [
    "thread = {\"configurable\": {\"thread_id\": str(1)}}\n",
    "for state in graph.get_state_history(thread):\n",
    "    print(state.config, state.values['count'])\n"
   ]
  },
  {
   "cell_type": "markdown",
   "id": "d3c8d305-6752-4cf6-a8cb-7babf3bbd643",
   "metadata": {},
   "source": [
    "You can see the details below. Lots of text, but try to find the node that start the new branch. Notice the parent *config* is not the previous entry in the stack, but is the entry from state[-3]."
   ]
  },
  {
   "cell_type": "code",
   "execution_count": 100,
   "id": "07d25697-fcf0-4a26-9485-3e195b0af225",
   "metadata": {
    "height": 64
   },
   "outputs": [
    {
     "name": "stdout",
     "output_type": "stream",
     "text": [
      "StateSnapshot(values={'lnode': 'node_2', 'scratch': 'hi', 'count': 4}, next=(), config={'configurable': {'thread_id': '1', 'thread_ts': '1efc96e7-3a0c-6eb2-8004-aecdea6f707d'}}, metadata={'source': 'loop', 'step': 4, 'writes': {'Node2': {'count': 1, 'lnode': 'node_2'}}}, created_at='2025-01-03T01:02:49.527863+00:00', parent_config={'configurable': {'thread_id': '1', 'thread_ts': '1efc96e7-3a09-68b6-8003-63ca30b91a67'}}) \n",
      "\n",
      "StateSnapshot(values={'lnode': 'node_1', 'scratch': 'hi', 'count': 3}, next=('Node2',), config={'configurable': {'thread_id': '1', 'thread_ts': '1efc96e7-3a09-68b6-8003-63ca30b91a67'}}, metadata={'source': 'loop', 'step': 3, 'writes': {'Node1': {'count': 1, 'lnode': 'node_1'}}}, created_at='2025-01-03T01:02:49.526475+00:00', parent_config={'configurable': {'thread_id': '1', 'thread_ts': '1efc96e7-3a04-60a0-8002-7185f30bc6c5'}}) \n",
      "\n",
      "StateSnapshot(values={'lnode': 'node_2', 'scratch': 'hi', 'count': 2}, next=('Node1',), config={'configurable': {'thread_id': '1', 'thread_ts': '1efc96e7-3a04-60a0-8002-7185f30bc6c5'}}, metadata={'source': 'loop', 'step': 2, 'writes': {'Node2': {'count': 1, 'lnode': 'node_2'}}}, created_at='2025-01-03T01:02:49.524221+00:00', parent_config={'configurable': {'thread_id': '1', 'thread_ts': '1efc96d5-8ac2-6026-8001-39826de205a4'}}) \n",
      "\n",
      "StateSnapshot(values={'lnode': 'node_2', 'scratch': 'hi', 'count': 4}, next=(), config={'configurable': {'thread_id': '1', 'thread_ts': '1efc96d5-8acf-6546-8004-beafe34e8df9'}}, metadata={'source': 'loop', 'step': 4, 'writes': {'Node2': {'count': 1, 'lnode': 'node_2'}}}, created_at='2025-01-03T00:54:54.812283+00:00', parent_config={'configurable': {'thread_id': '1', 'thread_ts': '1efc96d5-8aca-63d4-8003-d522ff7a13d7'}}) \n",
      "\n",
      "StateSnapshot(values={'lnode': 'node_1', 'scratch': 'hi', 'count': 3}, next=('Node2',), config={'configurable': {'thread_id': '1', 'thread_ts': '1efc96d5-8aca-63d4-8003-d522ff7a13d7'}}, metadata={'source': 'loop', 'step': 3, 'writes': {'Node1': {'count': 1, 'lnode': 'node_1'}}}, created_at='2025-01-03T00:54:54.810195+00:00', parent_config={'configurable': {'thread_id': '1', 'thread_ts': '1efc96d5-8ac6-67a2-8002-e19633989779'}}) \n",
      "\n",
      "StateSnapshot(values={'lnode': 'node_2', 'scratch': 'hi', 'count': 2}, next=('Node1',), config={'configurable': {'thread_id': '1', 'thread_ts': '1efc96d5-8ac6-67a2-8002-e19633989779'}}, metadata={'source': 'loop', 'step': 2, 'writes': {'Node2': {'count': 1, 'lnode': 'node_2'}}}, created_at='2025-01-03T00:54:54.808657+00:00', parent_config={'configurable': {'thread_id': '1', 'thread_ts': '1efc96d5-8ac2-6026-8001-39826de205a4'}}) \n",
      "\n",
      "StateSnapshot(values={'lnode': 'node_1', 'scratch': 'hi', 'count': 1}, next=('Node2',), config={'configurable': {'thread_id': '1', 'thread_ts': '1efc96d5-8ac2-6026-8001-39826de205a4'}}, metadata={'source': 'loop', 'step': 1, 'writes': {'Node1': {'count': 1, 'lnode': 'node_1'}}}, created_at='2025-01-03T00:54:54.806820+00:00', parent_config={'configurable': {'thread_id': '1', 'thread_ts': '1efc96d5-8abc-6cf2-8000-2947585d17f7'}}) \n",
      "\n",
      "StateSnapshot(values={'scratch': 'hi', 'count': 0}, next=('Node1',), config={'configurable': {'thread_id': '1', 'thread_ts': '1efc96d5-8abc-6cf2-8000-2947585d17f7'}}, metadata={'source': 'loop', 'step': 0, 'writes': None}, created_at='2025-01-03T00:54:54.804683+00:00', parent_config={'configurable': {'thread_id': '1', 'thread_ts': '1efc96d5-8ab8-6bc0-bfff-5435ddb54e19'}}) \n",
      "\n",
      "StateSnapshot(values={'count': 0}, next=('__start__',), config={'configurable': {'thread_id': '1', 'thread_ts': '1efc96d5-8ab8-6bc0-bfff-5435ddb54e19'}}, metadata={'source': 'input', 'step': -1, 'writes': {'count': 0, 'scratch': 'hi'}}, created_at='2025-01-03T00:54:54.803023+00:00', parent_config=None) \n",
      "\n"
     ]
    }
   ],
   "source": [
    "thread = {\"configurable\": {\"thread_id\": str(1)}}\n",
    "for state in graph.get_state_history(thread):\n",
    "    print(state,\"\\n\")\n"
   ]
  },
  {
   "cell_type": "markdown",
   "id": "d4653f91-761c-4185-8ca2-83de758308c7",
   "metadata": {},
   "source": [
    "### Modify State\n",
    "Let's start by starting a fresh thread and running to clean out history."
   ]
  },
  {
   "cell_type": "code",
   "execution_count": 101,
   "id": "0eaf346c-ce22-4b6a-b18f-d200dfd991de",
   "metadata": {
    "height": 47
   },
   "outputs": [
    {
     "name": "stdout",
     "output_type": "stream",
     "text": [
      "node1, count:0\n",
      "node2, count:1\n",
      "node1, count:2\n",
      "node2, count:3\n"
     ]
    },
    {
     "data": {
      "text/plain": [
       "{'lnode': 'node_2', 'scratch': 'hi', 'count': 4}"
      ]
     },
     "execution_count": 101,
     "metadata": {},
     "output_type": "execute_result"
    }
   ],
   "source": [
    "thread2 = {\"configurable\": {\"thread_id\": str(2)}}\n",
    "graph.invoke({\"count\":0, \"scratch\":\"hi\"},thread2)\n"
   ]
  },
  {
   "cell_type": "code",
   "execution_count": 102,
   "id": "90fc1797-25e6-4931-b173-2e520b71c372",
   "metadata": {
    "height": 64
   },
   "outputs": [
    {
     "data": {
      "image/png": "[encoded data removed]",
      "text/plain": [
       "<IPython.core.display.Image object>"
      ]
     },
     "execution_count": 102,
     "metadata": {},
     "output_type": "execute_result"
    }
   ],
   "source": [
    "from IPython.display import Image\n",
    "\n",
    "Image(graph.get_graph().draw_png())\n"
   ]
  },
  {
   "cell_type": "code",
   "execution_count": 103,
   "id": "4ede9215-3133-4ad9-8dd5-6a8288ebe055",
   "metadata": {
    "height": 81
   },
   "outputs": [
    {
     "name": "stdout",
     "output_type": "stream",
     "text": [
      "{'configurable': {'thread_id': '2', 'thread_ts': '1efc96f5-41e5-6c66-8004-e1d165849463'}} 4\n",
      "{'configurable': {'thread_id': '2', 'thread_ts': '1efc96f5-41e1-6620-8003-3f747724b8c9'}} 3\n",
      "{'configurable': {'thread_id': '2', 'thread_ts': '1efc96f5-41df-6ac8-8002-a97fc09d6025'}} 2\n",
      "{'configurable': {'thread_id': '2', 'thread_ts': '1efc96f5-41dc-63e6-8001-df2281c8340f'}} 1\n",
      "{'configurable': {'thread_id': '2', 'thread_ts': '1efc96f5-41d5-6f00-8000-42f9faa624bb'}} 0\n",
      "{'configurable': {'thread_id': '2', 'thread_ts': '1efc96f5-41d1-690a-bfff-3a2668ced289'}} 0\n"
     ]
    }
   ],
   "source": [
    "states2 = []\n",
    "for state in graph.get_state_history(thread2):\n",
    "    states2.append(state.config)\n",
    "    print(state.config, state.values['count'])   \n"
   ]
  },
  {
   "cell_type": "markdown",
   "id": "23ab2c5f-cb1d-4851-8925-ce0af1f12a40",
   "metadata": {},
   "source": [
    "Start by grabbing a state."
   ]
  },
  {
   "cell_type": "code",
   "execution_count": 104,
   "id": "65313f6a-c7a9-49e3-aab2-0eb905e74a91",
   "metadata": {
    "height": 47
   },
   "outputs": [
    {
     "data": {
      "text/plain": [
       "StateSnapshot(values={'lnode': 'node_1', 'scratch': 'hi', 'count': 1}, next=('Node2',), config={'configurable': {'thread_id': '2', 'thread_ts': '1efc96f5-41dc-63e6-8001-df2281c8340f'}}, metadata={'source': 'loop', 'step': 1, 'writes': {'Node1': {'count': 1, 'lnode': 'node_1'}}}, created_at='2025-01-03T01:09:06.156422+00:00', parent_config={'configurable': {'thread_id': '2', 'thread_ts': '1efc96f5-41d5-6f00-8000-42f9faa624bb'}})"
      ]
     },
     "execution_count": 104,
     "metadata": {},
     "output_type": "execute_result"
    }
   ],
   "source": [
    "save_state = graph.get_state(states2[-3])\n",
    "save_state\n"
   ]
  },
  {
   "cell_type": "markdown",
   "id": "c81b354b-8c2d-4150-9150-ac9d8486af02",
   "metadata": {},
   "source": [
    "Now modify the values. One subtle item to note: Recall when agent state was defined, `count` used `operator.add` to indicate that values are *added* to the current value. Here, `-3` will be added to the current count value rather than replace it."
   ]
  },
  {
   "cell_type": "code",
   "execution_count": 105,
   "id": "dae6527b-912f-4f86-a07b-1fae684aaa77",
   "metadata": {
    "height": 64
   },
   "outputs": [
    {
     "data": {
      "text/plain": [
       "StateSnapshot(values={'lnode': 'node_1', 'scratch': 'hello', 'count': -3}, next=('Node2',), config={'configurable': {'thread_id': '2', 'thread_ts': '1efc96f5-41dc-63e6-8001-df2281c8340f'}}, metadata={'source': 'loop', 'step': 1, 'writes': {'Node1': {'count': 1, 'lnode': 'node_1'}}}, created_at='2025-01-03T01:09:06.156422+00:00', parent_config={'configurable': {'thread_id': '2', 'thread_ts': '1efc96f5-41d5-6f00-8000-42f9faa624bb'}})"
      ]
     },
     "execution_count": 105,
     "metadata": {},
     "output_type": "execute_result"
    }
   ],
   "source": [
    "save_state.values[\"count\"] = -3\n",
    "save_state.values[\"scratch\"] = \"hello\"\n",
    "save_state\n"
   ]
  },
  {
   "cell_type": "markdown",
   "id": "904bb1eb-2e39-472f-ae56-d8e95e2f1ab6",
   "metadata": {},
   "source": [
    "Now update the state. This creates a new entry at the *top*, or *latest* entry in memory. This will become the current state."
   ]
  },
  {
   "cell_type": "code",
   "execution_count": 106,
   "id": "bcd78670-b119-45fa-934b-2ce2d477b4c2",
   "metadata": {
    "height": 30
   },
   "outputs": [
    {
     "data": {
      "text/plain": [
       "{'configurable': {'thread_id': '2',\n",
       "  'thread_ts': '1efc96fc-de29-60ee-8005-150e48912cb0'}}"
      ]
     },
     "execution_count": 106,
     "metadata": {},
     "output_type": "execute_result"
    }
   ],
   "source": [
    "graph.update_state(thread2,save_state.values)\n"
   ]
  },
  {
   "cell_type": "markdown",
   "id": "1bb3beed-1c44-4364-bde9-b29ea5e8ca30",
   "metadata": {},
   "source": [
    "Current state is at the top. You can match the `thread_ts`.\n",
    "Notice the `parent_config`, `thread_ts` of the new node - it is the previous node."
   ]
  },
  {
   "cell_type": "code",
   "execution_count": 107,
   "id": "231c7011-afe4-44bf-9e19-16220004912f",
   "metadata": {
    "height": 81
   },
   "outputs": [
    {
     "name": "stdout",
     "output_type": "stream",
     "text": [
      "StateSnapshot(values={'lnode': 'node_1', 'scratch': 'hello', 'count': 1}, next=('Node1',), config={'configurable': {'thread_id': '2', 'thread_ts': '1efc96fc-de29-60ee-8005-150e48912cb0'}}, metadata={'source': 'update', 'step': 5, 'writes': {'Node2': {'count': -3, 'lnode': 'node_1', 'scratch': 'hello'}}}, created_at='2025-01-03T01:12:30.450498+00:00', parent_config={'configurable': {'thread_id': '2', 'thread_ts': '1efc96f5-41e5-6c66-8004-e1d165849463'}}) \n",
      "\n",
      "StateSnapshot(values={'lnode': 'node_2', 'scratch': 'hi', 'count': 4}, next=(), config={'configurable': {'thread_id': '2', 'thread_ts': '1efc96f5-41e5-6c66-8004-e1d165849463'}}, metadata={'source': 'loop', 'step': 4, 'writes': {'Node2': {'count': 1, 'lnode': 'node_2'}}}, created_at='2025-01-03T01:09:06.160332+00:00', parent_config={'configurable': {'thread_id': '2', 'thread_ts': '1efc96f5-41e1-6620-8003-3f747724b8c9'}}) \n",
      "\n",
      "StateSnapshot(values={'lnode': 'node_1', 'scratch': 'hi', 'count': 3}, next=('Node2',), config={'configurable': {'thread_id': '2', 'thread_ts': '1efc96f5-41e1-6620-8003-3f747724b8c9'}}, metadata={'source': 'loop', 'step': 3, 'writes': {'Node1': {'count': 1, 'lnode': 'node_1'}}}, created_at='2025-01-03T01:09:06.158534+00:00', parent_config={'configurable': {'thread_id': '2', 'thread_ts': '1efc96f5-41df-6ac8-8002-a97fc09d6025'}}) \n",
      "\n"
     ]
    }
   ],
   "source": [
    "for i, state in enumerate(graph.get_state_history(thread2)):\n",
    "    if i >= 3:  #print latest 3\n",
    "        break\n",
    "    print(state, '\\n')\n"
   ]
  },
  {
   "cell_type": "markdown",
   "id": "62d34cd8-99b6-4224-b345-fe8475f2a602",
   "metadata": {},
   "source": [
    "### Try again with `as_node`\n",
    "When writing using `update_state()`, you want to define to the graph logic which node should be assumed as the writer. What this does is allow th graph logic to find the node on the graph. After writing the values, the `next()` value is computed by travesing the graph using the new state. In this case, the state we have was written by `Node1`. The graph can then compute the next state as being `Node2`. Note that in some graphs, this may involve going through conditional edges!  Let's try this out."
   ]
  },
  {
   "cell_type": "code",
   "execution_count": 108,
   "id": "7bfda2f6-5887-40fa-a733-a4357ad857d8",
   "metadata": {
    "height": 30
   },
   "outputs": [
    {
     "data": {
      "text/plain": [
       "{'configurable': {'thread_id': '2',\n",
       "  'thread_ts': '1efc9700-2558-6f48-8006-efd99c9317db'}}"
      ]
     },
     "execution_count": 108,
     "metadata": {},
     "output_type": "execute_result"
    }
   ],
   "source": [
    "graph.update_state(thread2,save_state.values, as_node=\"Node1\")\n"
   ]
  },
  {
   "cell_type": "code",
   "execution_count": 109,
   "id": "0788ac0f-5f64-49b2-b335-3094bbb19143",
   "metadata": {
    "height": 81
   },
   "outputs": [
    {
     "name": "stdout",
     "output_type": "stream",
     "text": [
      "StateSnapshot(values={'lnode': 'node_1', 'scratch': 'hello', 'count': -2}, next=('Node2',), config={'configurable': {'thread_id': '2', 'thread_ts': '1efc9700-2558-6f48-8006-efd99c9317db'}}, metadata={'source': 'update', 'step': 6, 'writes': {'Node1': {'count': -3, 'lnode': 'node_1', 'scratch': 'hello'}}}, created_at='2025-01-03T01:13:58.445629+00:00', parent_config={'configurable': {'thread_id': '2', 'thread_ts': '1efc96fc-de29-60ee-8005-150e48912cb0'}}) \n",
      "\n",
      "StateSnapshot(values={'lnode': 'node_1', 'scratch': 'hello', 'count': 1}, next=('Node1',), config={'configurable': {'thread_id': '2', 'thread_ts': '1efc96fc-de29-60ee-8005-150e48912cb0'}}, metadata={'source': 'update', 'step': 5, 'writes': {'Node2': {'count': -3, 'lnode': 'node_1', 'scratch': 'hello'}}}, created_at='2025-01-03T01:12:30.450498+00:00', parent_config={'configurable': {'thread_id': '2', 'thread_ts': '1efc96f5-41e5-6c66-8004-e1d165849463'}}) \n",
      "\n",
      "StateSnapshot(values={'lnode': 'node_2', 'scratch': 'hi', 'count': 4}, next=(), config={'configurable': {'thread_id': '2', 'thread_ts': '1efc96f5-41e5-6c66-8004-e1d165849463'}}, metadata={'source': 'loop', 'step': 4, 'writes': {'Node2': {'count': 1, 'lnode': 'node_2'}}}, created_at='2025-01-03T01:09:06.160332+00:00', parent_config={'configurable': {'thread_id': '2', 'thread_ts': '1efc96f5-41e1-6620-8003-3f747724b8c9'}}) \n",
      "\n"
     ]
    }
   ],
   "source": [
    "for i, state in enumerate(graph.get_state_history(thread2)):\n",
    "    if i >= 3:  #print latest 3\n",
    "        break\n",
    "    print(state, '\\n')\n"
   ]
  },
  {
   "cell_type": "markdown",
   "id": "18a8f52e-d1a6-46a0-a519-6fda0cb91624",
   "metadata": {},
   "source": [
    "`invoke` will run from the current state if not given a particular `thread_ts`. This is now the entry that was just added."
   ]
  },
  {
   "cell_type": "code",
   "execution_count": 110,
   "id": "9650d355-07c1-4a7d-a21d-4231673a7ee9",
   "metadata": {
    "height": 30
   },
   "outputs": [
    {
     "name": "stdout",
     "output_type": "stream",
     "text": [
      "node2, count:-2\n",
      "node1, count:-1\n",
      "node2, count:0\n",
      "node1, count:1\n",
      "node2, count:2\n"
     ]
    },
    {
     "data": {
      "text/plain": [
       "{'lnode': 'node_2', 'scratch': 'hello', 'count': 3}"
      ]
     },
     "execution_count": 110,
     "metadata": {},
     "output_type": "execute_result"
    }
   ],
   "source": [
    "graph.invoke(None,thread2)\n"
   ]
  },
  {
   "cell_type": "markdown",
   "id": "c59d3069-8fe7-4a05-9bfd-8e3a2e4590ad",
   "metadata": {},
   "source": [
    "Print out the state history, notice the `scratch` value change on the latest entries."
   ]
  },
  {
   "cell_type": "code",
   "execution_count": 111,
   "id": "35088704-2b18-4d44-ba0e-dccbfde6ed9e",
   "metadata": {
    "height": 47
   },
   "outputs": [
    {
     "name": "stdout",
     "output_type": "stream",
     "text": [
      "StateSnapshot(values={'lnode': 'node_2', 'scratch': 'hello', 'count': 3}, next=(), config={'configurable': {'thread_id': '2', 'thread_ts': '1efc9703-d24f-6208-800b-64751e90ad9e'}}, metadata={'source': 'loop', 'step': 11, 'writes': {'Node2': {'count': 1, 'lnode': 'node_2'}}}, created_at='2025-01-03T01:15:37.112621+00:00', parent_config={'configurable': {'thread_id': '2', 'thread_ts': '1efc9703-d24c-6e2c-800a-e00401d6484f'}}) \n",
      "\n",
      "StateSnapshot(values={'lnode': 'node_1', 'scratch': 'hello', 'count': 2}, next=('Node2',), config={'configurable': {'thread_id': '2', 'thread_ts': '1efc9703-d24c-6e2c-800a-e00401d6484f'}}, metadata={'source': 'loop', 'step': 10, 'writes': {'Node1': {'count': 1, 'lnode': 'node_1'}}}, created_at='2025-01-03T01:15:37.111702+00:00', parent_config={'configurable': {'thread_id': '2', 'thread_ts': '1efc9703-d24b-627a-8009-c8cdaf43f8ff'}}) \n",
      "\n",
      "StateSnapshot(values={'lnode': 'node_2', 'scratch': 'hello', 'count': 1}, next=('Node1',), config={'configurable': {'thread_id': '2', 'thread_ts': '1efc9703-d24b-627a-8009-c8cdaf43f8ff'}}, metadata={'source': 'loop', 'step': 9, 'writes': {'Node2': {'count': 1, 'lnode': 'node_2'}}}, created_at='2025-01-03T01:15:37.110991+00:00', parent_config={'configurable': {'thread_id': '2', 'thread_ts': '1efc9703-d248-639a-8008-a0ff9a1d7fde'}}) \n",
      "\n",
      "StateSnapshot(values={'lnode': 'node_1', 'scratch': 'hello', 'count': 0}, next=('Node2',), config={'configurable': {'thread_id': '2', 'thread_ts': '1efc9703-d248-639a-8008-a0ff9a1d7fde'}}, metadata={'source': 'loop', 'step': 8, 'writes': {'Node1': {'count': 1, 'lnode': 'node_1'}}}, created_at='2025-01-03T01:15:37.109792+00:00', parent_config={'configurable': {'thread_id': '2', 'thread_ts': '1efc9703-d245-679e-8007-f26f4df0c4bb'}}) \n",
      "\n",
      "StateSnapshot(values={'lnode': 'node_2', 'scratch': 'hello', 'count': -1}, next=('Node1',), config={'configurable': {'thread_id': '2', 'thread_ts': '1efc9703-d245-679e-8007-f26f4df0c4bb'}}, metadata={'source': 'loop', 'step': 7, 'writes': {'Node2': {'count': 1, 'lnode': 'node_2'}}}, created_at='2025-01-03T01:15:37.108661+00:00', parent_config={'configurable': {'thread_id': '2', 'thread_ts': '1efc9700-2558-6f48-8006-efd99c9317db'}}) \n",
      "\n",
      "StateSnapshot(values={'lnode': 'node_1', 'scratch': 'hello', 'count': -2}, next=('Node2',), config={'configurable': {'thread_id': '2', 'thread_ts': '1efc9700-2558-6f48-8006-efd99c9317db'}}, metadata={'source': 'update', 'step': 6, 'writes': {'Node1': {'count': -3, 'lnode': 'node_1', 'scratch': 'hello'}}}, created_at='2025-01-03T01:13:58.445629+00:00', parent_config={'configurable': {'thread_id': '2', 'thread_ts': '1efc96fc-de29-60ee-8005-150e48912cb0'}}) \n",
      "\n",
      "StateSnapshot(values={'lnode': 'node_1', 'scratch': 'hello', 'count': 1}, next=('Node1',), config={'configurable': {'thread_id': '2', 'thread_ts': '1efc96fc-de29-60ee-8005-150e48912cb0'}}, metadata={'source': 'update', 'step': 5, 'writes': {'Node2': {'count': -3, 'lnode': 'node_1', 'scratch': 'hello'}}}, created_at='2025-01-03T01:12:30.450498+00:00', parent_config={'configurable': {'thread_id': '2', 'thread_ts': '1efc96f5-41e5-6c66-8004-e1d165849463'}}) \n",
      "\n",
      "StateSnapshot(values={'lnode': 'node_2', 'scratch': 'hi', 'count': 4}, next=(), config={'configurable': {'thread_id': '2', 'thread_ts': '1efc96f5-41e5-6c66-8004-e1d165849463'}}, metadata={'source': 'loop', 'step': 4, 'writes': {'Node2': {'count': 1, 'lnode': 'node_2'}}}, created_at='2025-01-03T01:09:06.160332+00:00', parent_config={'configurable': {'thread_id': '2', 'thread_ts': '1efc96f5-41e1-6620-8003-3f747724b8c9'}}) \n",
      "\n",
      "StateSnapshot(values={'lnode': 'node_1', 'scratch': 'hi', 'count': 3}, next=('Node2',), config={'configurable': {'thread_id': '2', 'thread_ts': '1efc96f5-41e1-6620-8003-3f747724b8c9'}}, metadata={'source': 'loop', 'step': 3, 'writes': {'Node1': {'count': 1, 'lnode': 'node_1'}}}, created_at='2025-01-03T01:09:06.158534+00:00', parent_config={'configurable': {'thread_id': '2', 'thread_ts': '1efc96f5-41df-6ac8-8002-a97fc09d6025'}}) \n",
      "\n",
      "StateSnapshot(values={'lnode': 'node_2', 'scratch': 'hi', 'count': 2}, next=('Node1',), config={'configurable': {'thread_id': '2', 'thread_ts': '1efc96f5-41df-6ac8-8002-a97fc09d6025'}}, metadata={'source': 'loop', 'step': 2, 'writes': {'Node2': {'count': 1, 'lnode': 'node_2'}}}, created_at='2025-01-03T01:09:06.157836+00:00', parent_config={'configurable': {'thread_id': '2', 'thread_ts': '1efc96f5-41dc-63e6-8001-df2281c8340f'}}) \n",
      "\n",
      "StateSnapshot(values={'lnode': 'node_1', 'scratch': 'hi', 'count': 1}, next=('Node2',), config={'configurable': {'thread_id': '2', 'thread_ts': '1efc96f5-41dc-63e6-8001-df2281c8340f'}}, metadata={'source': 'loop', 'step': 1, 'writes': {'Node1': {'count': 1, 'lnode': 'node_1'}}}, created_at='2025-01-03T01:09:06.156422+00:00', parent_config={'configurable': {'thread_id': '2', 'thread_ts': '1efc96f5-41d5-6f00-8000-42f9faa624bb'}}) \n",
      "\n",
      "StateSnapshot(values={'scratch': 'hi', 'count': 0}, next=('Node1',), config={'configurable': {'thread_id': '2', 'thread_ts': '1efc96f5-41d5-6f00-8000-42f9faa624bb'}}, metadata={'source': 'loop', 'step': 0, 'writes': None}, created_at='2025-01-03T01:09:06.153837+00:00', parent_config={'configurable': {'thread_id': '2', 'thread_ts': '1efc96f5-41d1-690a-bfff-3a2668ced289'}}) \n",
      "\n",
      "StateSnapshot(values={'count': 0}, next=('__start__',), config={'configurable': {'thread_id': '2', 'thread_ts': '1efc96f5-41d1-690a-bfff-3a2668ced289'}}, metadata={'source': 'input', 'step': -1, 'writes': {'count': 0, 'scratch': 'hi'}}, created_at='2025-01-03T01:09:06.152049+00:00', parent_config=None) \n",
      "\n"
     ]
    }
   ],
   "source": [
    "for state in graph.get_state_history(thread2):\n",
    "    print(state,\"\\n\")\n"
   ]
  }
 ],
 "metadata": {
  "kernelspec": {
   "display_name": "langraph",
   "language": "python",
   "name": "python3"
  },
  "language_info": {
   "codemirror_mode": {
    "name": "ipython",
    "version": 3
   },
   "file_extension": ".py",
   "mimetype": "text/x-python",
   "name": "python",
   "nbconvert_exporter": "python",
   "pygments_lexer": "ipython3",
   "version": "3.10.15"
  }
 },
 "nbformat": 4,
 "nbformat_minor": 5
}
